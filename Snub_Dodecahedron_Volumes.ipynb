{
 "cells": [
  {
   "cell_type": "markdown",
   "metadata": {},
   "source": [
    "# <center>Volume Solutions to Snub Dodecahedron</center>\n",
    "<center><font size=\"3\">Mark S. Adams and Menno T. Kosters</font></center>\n",
    "<center><font size=\"3\">5/9/2021</font></center>\n",
    "<br>\n"
   ]
  },
  {
   "cell_type": "markdown",
   "metadata": {},
   "source": [
    "<font size=\"3\"><strong>Abstract</strong></font>\n",
    "Volume solutions to the Snub Dodecahedron, Thirteenth Archimedean Solid, are made by HSM Coxeter, EW Weisstein, MT Kosters, HC Rajpoot, and MS Adams. There are more than one closed form solution, each yielding different expressions. The Adams solution may possess discovery of an origin to one third powers of the golden ratio.\n\n",
    "\n",
    "<strong>Keywords:</strong> Snub dodecahedron · Archimedean solids · Golden ratio\n",
    "\n",
    "<strong>Mathematics Subject Classification (2000):</strong> 51M15, (51M20)\n",
    "\n",
    "<strong>Contents</strong>\n",
    "\n",
    "&nbsp;&nbsp;Closed form volume of the Snub Dodecahedron\n",
    "&nbsp;&nbsp;Harold S. M. Coxeter\n",
    "&nbsp;&nbsp;Eric W. Weisstein\n",
    "\n",
    "&nbsp;&nbsp;Menno T. Kosters\n",
    "\n",
    "&nbsp;&nbsp;Harish C. Rajpoot\n",
    "\n",
    "&nbsp;&nbsp;Numerical\n",
    "\n",
    "&nbsp;&nbsp;Mark S. Adams\n",
    "\n",
    "&nbsp;&nbsp;Origin to one third powers of the golden ratio\n",
    "\n",
    "&nbsp;&nbsp;References\n",
    "\n"
   ]
  },
  {
   "cell_type": "markdown",
   "metadata": {},
   "source": [
    "## Closed form volume of the Snub Dodecahedron\n",
    "#### There are at least three closed form expressions for the volume of a snub dodecahedron of unit edge length:\n",
    "<br>\n",
    "<br>\n",
    "$$\n",
    "\\text{Coxeter expression =}\\; \\frac{12\\color{Crimson}{\\eta^2}\\color{Black}{(3}\\color{DarkGoldenrod}{\\varphi}\n",
    "\\color{Black}{+1)-}\\color{Crimson}{\\eta}\n",
    "\\color{Black}{(36}\\color{DarkGoldenrod}{\\varphi}\n",
    "\\color{Black}{+7)-(53}\\color{DarkGoldenrod}{\\varphi}\n",
    "\\color{Black}{+6)}}{6\\sqrt{(3-\\color{Crimson}{\\eta^2}\\color{black}{)^3}}}\n",
    "\\\\\n",
    "$$\n",
    "\n",
    "<br>\n",
    "<br>\n",
    "\n",
    "$$\n",
    "\\text{Kosters expression =}\\;\n",
    "\\frac{(3\\color{DarkGoldenrod}{\\varphi}+1)\\color{Teal}{\\xi^2}+(3\\color{DarkGoldenrod}{\\varphi}+1)\\color{Teal}{\\xi}-\n",
    "\\color{DarkGoldenrod}{\\varphi}/6-2}{\\sqrt{3\\color{Teal}{\\xi^2}-\\color{DarkGoldenrod}{\\varphi^2}}}\n",
    "$$\n",
    "\n",
    "<br>\n",
    "<br>\n",
    "\n",
    "$$\n",
    "\\text{Adams expression =}\\;\n",
    "\\frac{10\\color{DarkGoldenrod}{\\varphi}}{3}\\sqrt{ \\color{DarkGoldenrod}{\\varphi^2}\n",
    "\\color{Black}{+3}\\color{Crimson}{\\eta}\n",
    "\\color{Black}{(}\\color{DarkGoldenrod}{\\varphi}\n",
    "\\color{Black}{+}\\color{Crimson}{\\eta}\n",
    "\\color{Black}{)}}\n",
    "\\,+\\,\\frac{\\color{DarkGoldenrod}{\\varphi^2}}{2}\\sqrt{ 5 + 5\\sqrt{5}\\color{DarkGoldenrod}{\\varphi}\\color{Crimson}{\\eta}\n",
    "\\color{Black}{(}\\color{DarkGoldenrod}{\\varphi}\n",
    "\\color{Black}{+}\\color{Crimson}{\\eta}\n",
    "\\color{Black}{)}}\n",
    "\\\\\n",
    "$$\n",
    "\n",
    "<br>\n",
    "<br>\n",
    "\n",
    "$$\n",
    "\\text{where}\\;\n",
    "\\color{Crimson}{eta}\\;\n",
    "\\text{ is defined as}\n",
    "\\quad\n",
    "\\color{Crimson}{\\eta\\;\\equiv\\;\\sqrt[3]{ \\frac{\n",
    "\\color{DarkGoldenrod}{\\varphi}\n",
    "\\color{Crimson}{}}{2} + \\frac{1}{2} \\sqrt{\n",
    "\\color{DarkGoldenrod}{\\varphi}\n",
    "\\color{Crimson}{-}\\frac{5}{27}}}\\;+\\;}\n",
    "\\color{Crimson}{\n",
    "\\sqrt[3]{ \\frac{\n",
    "\\color{DarkGoldenrod}{\\varphi}\n",
    "\\color{Crimson}{}}{2} - \\frac{1}{2} \\sqrt{\n",
    "\\color{DarkGoldenrod}{\\varphi}\n",
    "\\color{Crimson}{-}\\frac{5}{27}}}}\n",
    "\\quad\n",
    "\\text{ and }\n",
    "\\color{Teal}{xi}\n",
    "\\quad\n",
    "\\color{Teal}{\\xi\\,}=\\,\n",
    "\\frac{\n",
    "\\color{DarkGoldenrod}{\\varphi}}{\n",
    "\\color{Crimson}{\\eta}\n",
    "}\n",
    "$$\n"
   ]
  },
  {
   "cell_type": "markdown",
   "metadata": {},
   "source": [
    "## Harold S. M. Coxeter\n",
    "One of the world's finest and most eloquent geometers [Harold Scott MacDonald Coxeter](https://mathworld.wolfram.com/news/2003-04-02/coxeter/) in his [\"Uniform Polyhedra.\"](https://royalsocietypublishing.org/doi/abs/10.1098/rsta.1954.0003)[<sup>1</sup>](#fn1).\n",
    "Uniform Polyhedra, Section 10, The Snub Polyhedra: We \n",
    "construct $\\vert$ p q r by regarding the spherical triangles (p q r) as being alternately white\n",
    "and black (see § 3, especially figure 6). The three white triangles that surround a black one\n",
    "contain corresponding points forming an equilateral triangle which we may called a\n",
    "‘snub face' of $\\vert$ pqr. One of these three white triangles is derived from another, sharing\n",
    "with it the vertex P (say), by a rotation through $\\frac{2\\pi}{p}$ about P. If this rotation takes the chosen\n",
    "point $C\\prime\\prime\\prime$ in the first triangle to $C\\prime\\prime$ in the second, we have an isosceles triangle\n",
    "$C\\prime\\prime\\prime PC\\prime\\prime$\n",
    "whose base \n",
    "$C\\prime\\prime\\prime C\\prime\\prime$\n",
    "(opposite to the angle $\\frac{2\\pi}{p}$ at P) is one side of the snub face. Solving this\n",
    "isosceles triangle, we find.\n",
    "$\n",
    "\\sin PC\\prime\\prime\\sin\\frac{\\pi}{p}\\;=\\;\\sin\\frac{1}{2}C\\prime\\prime C\\prime\\prime\\prime\n",
    "$\n",
    "Besides the usual twelve pentagrams and sixty 'snub’ triangles, they have each forty more triangles, lying by pairs in twenty planes (the face-planes of an icosahedron).\n",
    "\n",
    "$$\n",
    "Let\\;\\color{Teal}{xi\\;\\xi}\\;be\\;the\\;real\\;root\\;of\\;the\\;polynomial:\\;\n",
    "X^3 + 2X^2 - \\color{DarkGoldenrod}{\\varphi^2} = 0\n",
    "$$\n",
    "\n",
    "## Eric W. Weisstein\n",
    "MathWorld--A Wolfram Web Resource by [Eric W. Weisstein](https://mathworld.wolfram.com/about/author.html)\n",
    "shows in [\"Snub Dodecahedron.\"](https://mathworld.wolfram.com/SnubDodecahedron.html)[<sup>2</sup>](#fn2) Coxeter's polynomial expression, volume is the real root of x:\n",
    "\n",
    "$$\n",
    "187445810737515625 - \n",
    "182124351550575000\\,x^2  +\n",
    "6152923794150000\\,x^4 +\n",
    "1030526618040000\\,x^6 +\n",
    "\\\\\n",
    "162223191936000\\,x^8 -\n",
    "3195335070720\\,x^{10} +\n",
    "2176782336\\,x^{12} = 0\n",
    "\\\\\n",
    "$$"
   ]
  },
  {
   "cell_type": "markdown",
   "metadata": {},
   "source": [
    "## Menno T. Kosters\n",
    "**The snub dodecahedron**\n",
    "\n",
    "In this SageMath notebook we will derive coordinates for the *snub dodecahedron*. We will start with a regular icosahedron, for which standard coordinates are well known. Then we will inscribe a snub dodecahedron in it. We will use the coordinates to obtain symbolic expressions and numeric values of various metric properties of the snub dodecahedron.\n",
    "\n",
    "**The icosahedron**\n",
    "\n",
    "The number $\\varphi = (1 + \\sqrt{5})/2$ is called the *golden ratio*. It satisfies $\\varphi^2 = \\varphi + 1$. It plays an important role in the decription of the *regular icosahedron*. Indeed, the 12 points $(0, \\pm 1/\\varphi, \\pm 1)$, $(\\pm 1, 0, \\pm 1/\\varphi)$ and $(\\pm 1/\\varphi, \\pm 1, 0)$ are the vertices of a regular icosahedron with edge length $2/\\varphi$, centered at the origin. We want to do some symbolic computations with the number $\\varphi$:"
   ]
  },
  {
   "cell_type": "code",
   "execution_count": 1,
   "metadata": {},
   "outputs": [],
   "source": [
    "%display latex"
   ]
  },
  {
   "cell_type": "code",
   "execution_count": 2,
   "metadata": {},
   "outputs": [],
   "source": [
    "var('phi')\n",
    "k.<phi> = NumberField(phi^2 - phi - 1)"
   ]
  },
  {
   "cell_type": "markdown",
   "metadata": {},
   "source": [
    " Let $P$, $Q$, and $R$ be three vertices, forming one of the triangular faces of the icosahedron:"
   ]
  },
  {
   "cell_type": "code",
   "execution_count": 3,
   "metadata": {},
   "outputs": [],
   "source": [
    "P = vector([0, -1/phi, 1])\n",
    "Q = vector([1, 0, 1/phi])\n",
    "R = vector([0, 1/phi, 1])"
   ]
  },
  {
   "cell_type": "markdown",
   "metadata": {},
   "source": [
    "Let $R_3$ be the $120^\\circ$ rotation sending $P$ to $Q$, $Q$ to $R$, and $R$ back to $P$:"
   ]
  },
  {
   "cell_type": "code",
   "execution_count": 4,
   "metadata": {},
   "outputs": [
    {
     "data": {
      "text/html": [
       "<html><script type=\"math/tex; mode=display\">\\newcommand{\\Bold}[1]{\\mathbf{#1}}\\left(\\begin{array}{rrr}\n",
       "-\\frac{1}{2} \\phi + \\frac{1}{2} & -\\frac{1}{2} \\phi & \\frac{1}{2} \\\\\n",
       "\\frac{1}{2} \\phi & -\\frac{1}{2} & -\\frac{1}{2} \\phi + \\frac{1}{2} \\\\\n",
       "\\frac{1}{2} & \\frac{1}{2} \\phi - \\frac{1}{2} & \\frac{1}{2} \\phi\n",
       "\\end{array}\\right)</script></html>"
      ],
      "text/latex": [
       "\\begin{math}\n",
       "\\newcommand{\\Bold}[1]{\\mathbf{#1}}\\left(\\begin{array}{rrr}\n",
       "-\\frac{1}{2} \\phi + \\frac{1}{2} & -\\frac{1}{2} \\phi & \\frac{1}{2} \\\\\n",
       "\\frac{1}{2} \\phi & -\\frac{1}{2} & -\\frac{1}{2} \\phi + \\frac{1}{2} \\\\\n",
       "\\frac{1}{2} & \\frac{1}{2} \\phi - \\frac{1}{2} & \\frac{1}{2} \\phi\n",
       "\\end{array}\\right)\n",
       "\\end{math}"
      ],
      "text/plain": [
       "[-1/2*phi + 1/2       -1/2*phi            1/2]\n",
       "[       1/2*phi           -1/2 -1/2*phi + 1/2]\n",
       "[           1/2  1/2*phi - 1/2        1/2*phi]"
      ]
     },
     "execution_count": 4,
     "metadata": {},
     "output_type": "execute_result"
    }
   ],
   "source": [
    "R3 = matrix([Q, R, P]).transpose()*matrix([P, Q, R]).inverse().transpose(); R3"
   ]
  },
  {
   "cell_type": "markdown",
   "metadata": {},
   "source": [
    "Now let $A = (x, y, z)$ be a point inside the triangle $PQR$. Note that $x = \\varphi^2(1-z)$, because the $x$- and $z$- coordinates of $P$, $Q$ and $R$ satisfy this relation and $A$ lies in the plane through these three points."
   ]
  },
  {
   "cell_type": "code",
   "execution_count": 5,
   "metadata": {},
   "outputs": [],
   "source": [
    "r.<y, z> = PolynomialRing(k)\n",
    "x = phi**2*(1 - z)\n",
    "A = vector([x, y, z])"
   ]
  },
  {
   "cell_type": "markdown",
   "metadata": {},
   "source": [
    "Let $B$ be obtained from $A$ by applying $R_3$, and let $C$ be the point $(-x, -y, z)$."
   ]
  },
  {
   "cell_type": "code",
   "execution_count": 6,
   "metadata": {},
   "outputs": [],
   "source": [
    "B = R3*A\n",
    "C = vector([-x, -y, z])"
   ]
  },
  {
   "cell_type": "markdown",
   "metadata": {},
   "source": [
    "We want to choose $y$ and $z$ so that $ABC$ is an equilateral triangle. Then $A$, $B$ and $C$ will be vertices of a snub dodecahedron centered at the origin. The other vertices can then be found by applying the 60 rotational symmetries of the icosahedron. For this, the dot products $(A-B,A-B)$, $(A-C,A-C)$ and $(B-C, B-C)$ need to be equal. Because $(A,A) = (B,B) = (C,C)$ this can be simplified to $(A,B) = (B,C) = (A,C)$, or $(A-C,B)=0$ and $(A,B-C)=0$:"
   ]
  },
  {
   "cell_type": "code",
   "execution_count": 7,
   "metadata": {},
   "outputs": [
    {
     "data": {
      "text/html": [
       "<html><script type=\"math/tex; mode=display\">\\newcommand{\\Bold}[1]{\\mathbf{#1}}-y^{2} + \\left(-\\phi + 1\\right) y z + \\left(-3 \\phi - 2\\right) z^{2} + \\left(5 \\phi + 3\\right) z - 2 \\phi - 1</script></html>"
      ],
      "text/latex": [
       "\\begin{math}\n",
       "\\newcommand{\\Bold}[1]{\\mathbf{#1}}-y^{2} + \\left(-\\phi + 1\\right) y z + \\left(-3 \\phi - 2\\right) z^{2} + \\left(5 \\phi + 3\\right) z - 2 \\phi - 1\n",
       "\\end{math}"
      ],
      "text/plain": [
       "-y^2 + (-phi + 1)*y*z + (-3*phi - 2)*z^2 + (5*phi + 3)*z + (-2*phi - 1)"
      ]
     },
     "execution_count": 7,
     "metadata": {},
     "output_type": "execute_result"
    }
   ],
   "source": [
    "eq1 = (A - C).dot_product(B); eq1"
   ]
  },
  {
   "cell_type": "markdown",
   "metadata": {},
   "source": [
    "(The right-hand side of our equations will always be $0$, so we omit them.)"
   ]
  },
  {
   "cell_type": "code",
   "execution_count": 8,
   "metadata": {},
   "outputs": [
    {
     "data": {
      "text/html": [
       "<html><script type=\"math/tex; mode=display\">\\newcommand{\\Bold}[1]{\\mathbf{#1}}y^{2} + \\left(3 \\phi - 1\\right) z^{2} + \\left(-6 \\phi - 4\\right) z + 4 \\phi + 3</script></html>"
      ],
      "text/latex": [
       "\\begin{math}\n",
       "\\newcommand{\\Bold}[1]{\\mathbf{#1}}y^{2} + \\left(3 \\phi - 1\\right) z^{2} + \\left(-6 \\phi - 4\\right) z + 4 \\phi + 3\n",
       "\\end{math}"
      ],
      "text/plain": [
       "y^2 + (3*phi - 1)*z^2 + (-6*phi - 4)*z + (4*phi + 3)"
      ]
     },
     "execution_count": 8,
     "metadata": {},
     "output_type": "execute_result"
    }
   ],
   "source": [
    "eq2 = 2*A.dot_product(B - C); eq2"
   ]
  },
  {
   "cell_type": "markdown",
   "metadata": {},
   "source": [
    "These two equations are simple to solve. Adding them removes the $y^2$ part:"
   ]
  },
  {
   "cell_type": "code",
   "execution_count": 9,
   "metadata": {},
   "outputs": [
    {
     "data": {
      "text/html": [
       "<html><script type=\"math/tex; mode=display\">\\newcommand{\\Bold}[1]{\\mathbf{#1}}\\left(-\\phi + 1\\right) y z - 3 z^{2} + \\left(-\\phi - 1\\right) z + 2 \\phi + 2</script></html>"
      ],
      "text/latex": [
       "\\begin{math}\n",
       "\\newcommand{\\Bold}[1]{\\mathbf{#1}}\\left(-\\phi + 1\\right) y z - 3 z^{2} + \\left(-\\phi - 1\\right) z + 2 \\phi + 2\n",
       "\\end{math}"
      ],
      "text/plain": [
       "(-phi + 1)*y*z - 3*z^2 + (-phi - 1)*z + (2*phi + 2)"
      ]
     },
     "execution_count": 9,
     "metadata": {},
     "output_type": "execute_result"
    }
   ],
   "source": [
    "eq = eq1 + eq2; eq"
   ]
  },
  {
   "cell_type": "markdown",
   "metadata": {},
   "source": [
    "This is linear in $y$, so we now we can express $y$ in $z$:"
   ]
  },
  {
   "cell_type": "code",
   "execution_count": 10,
   "metadata": {},
   "outputs": [
    {
     "data": {
      "text/html": [
       "<html><script type=\"math/tex; mode=display\">\\newcommand{\\Bold}[1]{\\mathbf{#1}}\\frac{-3 z^{2} + \\left(-\\phi - 1\\right) z + 2 \\phi + 2}{\\left(\\phi - 1\\right) z}</script></html>"
      ],
      "text/latex": [
       "\\begin{math}\n",
       "\\newcommand{\\Bold}[1]{\\mathbf{#1}}\\frac{-3 z^{2} + \\left(-\\phi - 1\\right) z + 2 \\phi + 2}{\\left(\\phi - 1\\right) z}\n",
       "\\end{math}"
      ],
      "text/plain": [
       "(-3*z^2 + (-phi - 1)*z + (2*phi + 2))/((phi - 1)*z)"
      ]
     },
     "execution_count": 10,
     "metadata": {},
     "output_type": "execute_result"
    }
   ],
   "source": [
    "y = eq(0, z)/(eq(0, z) - eq(1, z)); y"
   ]
  },
  {
   "cell_type": "markdown",
   "metadata": {},
   "source": [
    "Substituting in eq2, and multiplying by $z^2$ to get rid of the denominator:"
   ]
  },
  {
   "cell_type": "code",
   "execution_count": 11,
   "metadata": {},
   "outputs": [
    {
     "data": {
      "text/html": [
       "<html><script type=\"math/tex; mode=display\">\\newcommand{\\Bold}[1]{\\mathbf{#1}}\\left(12 \\phi + 8\\right) \\cdot (z - 1) \\cdot (z^{3} + 2 z^{2} - \\phi - 1)</script></html>"
      ],
      "text/latex": [
       "\\begin{math}\n",
       "\\newcommand{\\Bold}[1]{\\mathbf{#1}}\\left(12 \\phi + 8\\right) \\cdot (z - 1) \\cdot (z^{3} + 2 z^{2} - \\phi - 1)\n",
       "\\end{math}"
      ],
      "text/plain": [
       "((12*phi + 8)) * (z - 1) * (z^3 + 2*z^2 + (-phi - 1))"
      ]
     },
     "execution_count": 11,
     "metadata": {},
     "output_type": "execute_result"
    }
   ],
   "source": [
    "eq2 = z**2*eq2(y, z); factor(eq2)"
   ]
  },
  {
   "cell_type": "markdown",
   "metadata": {},
   "source": [
    "We now have an equation for $z$ alone. $z = 1$ is clearly not the zero we want. It corresponds to the degenerate solution where $A=P$, $B=Q$ and $C=R$. So, finally, we find that $z$ is a zero of the following polynomial:"
   ]
  },
  {
   "cell_type": "code",
   "execution_count": 12,
   "metadata": {},
   "outputs": [
    {
     "data": {
      "text/html": [
       "<html><script type=\"math/tex; mode=display\">\\newcommand{\\Bold}[1]{\\mathbf{#1}}z^{3} + 2 z^{2} - \\phi - 1</script></html>"
      ],
      "text/latex": [
       "\\begin{math}\n",
       "\\newcommand{\\Bold}[1]{\\mathbf{#1}}z^{3} + 2 z^{2} - \\phi - 1\n",
       "\\end{math}"
      ],
      "text/plain": [
       "z^3 + 2*z^2 + (-phi - 1)"
      ]
     },
     "execution_count": 12,
     "metadata": {},
     "output_type": "execute_result"
    }
   ],
   "source": [
    "factor(eq2)[1][0]"
   ]
  },
  {
   "cell_type": "markdown",
   "metadata": {},
   "source": [
    "Let $\\xi$ be a zero of this polynomial. For the time being we do not specify which of the three zeroes."
   ]
  },
  {
   "cell_type": "markdown",
   "metadata": {},
   "source": [
    "**Metric properties** \n",
    "\n",
    "We now want to use the coordinates we found to get symbolic expressions for lengths, volumes, etcetera. To this end we need to be able to do symbolic computations with $\\xi$:"
   ]
  },
  {
   "cell_type": "code",
   "execution_count": 13,
   "metadata": {},
   "outputs": [],
   "source": [
    "l.<xi> = k[]\n",
    "k.<xi> = k.extension(xi^3 + 2*xi^2 - phi^2 )"
   ]
  },
  {
   "cell_type": "markdown",
   "metadata": {},
   "source": [
    "We express the coordinates of $A$ in $\\varphi$ and $\\xi$:"
   ]
  },
  {
   "cell_type": "code",
   "execution_count": 14,
   "metadata": {},
   "outputs": [
    {
     "data": {
      "text/html": [
       "<html><script type=\"math/tex; mode=display\">\\newcommand{\\Bold}[1]{\\mathbf{#1}}\\left(\\left(-\\phi - 1\\right) \\xi + \\phi + 1,\\,2 \\phi \\xi^{2} + \\phi \\xi - 2 \\phi - 1,\\,\\xi\\right)</script></html>"
      ],
      "text/latex": [
       "\\begin{math}\n",
       "\\newcommand{\\Bold}[1]{\\mathbf{#1}}\\left(\\left(-\\phi - 1\\right) \\xi + \\phi + 1,\\,2 \\phi \\xi^{2} + \\phi \\xi - 2 \\phi - 1,\\,\\xi\\right)\n",
       "\\end{math}"
      ],
      "text/plain": [
       "((-phi - 1)*xi + phi + 1, 2*phi*xi^2 + phi*xi - 2*phi - 1, xi)"
      ]
     },
     "execution_count": 14,
     "metadata": {},
     "output_type": "execute_result"
    }
   ],
   "source": [
    "x, y, z = phi**2*(1 - xi), y(0, xi), xi\n",
    "A = vector([x, y, z]); A"
   ]
  },
  {
   "cell_type": "markdown",
   "metadata": {},
   "source": [
    "Now we can compute the squared circumradius of our snub dodecahedron:"
   ]
  },
  {
   "cell_type": "code",
   "execution_count": 15,
   "metadata": {},
   "outputs": [
    {
     "data": {
      "text/html": [
       "<html><script type=\"math/tex; mode=display\">\\newcommand{\\Bold}[1]{\\mathbf{#1}}4 \\xi^{2} - \\phi - 1</script></html>"
      ],
      "text/latex": [
       "\\begin{math}\n",
       "\\newcommand{\\Bold}[1]{\\mathbf{#1}}4 \\xi^{2} - \\phi - 1\n",
       "\\end{math}"
      ],
      "text/plain": [
       "4*xi^2 - phi - 1"
      ]
     },
     "execution_count": 15,
     "metadata": {},
     "output_type": "execute_result"
    }
   ],
   "source": [
    "A.dot_product(A)"
   ]
  },
  {
   "cell_type": "markdown",
   "metadata": {},
   "source": [
    "The edge length, squared:"
   ]
  },
  {
   "cell_type": "code",
   "execution_count": 16,
   "metadata": {},
   "outputs": [
    {
     "data": {
      "text/html": [
       "<html><script type=\"math/tex; mode=display\">\\newcommand{\\Bold}[1]{\\mathbf{#1}}12 \\xi^{2} - 4 \\phi - 4</script></html>"
      ],
      "text/latex": [
       "\\begin{math}\n",
       "\\newcommand{\\Bold}[1]{\\mathbf{#1}}12 \\xi^{2} - 4 \\phi - 4\n",
       "\\end{math}"
      ],
      "text/plain": [
       "12*xi^2 - 4*phi - 4"
      ]
     },
     "execution_count": 16,
     "metadata": {},
     "output_type": "execute_result"
    }
   ],
   "source": [
    "B = R3*A\n",
    "(A - B).dot_product(A - B)"
   ]
  },
  {
   "cell_type": "markdown",
   "metadata": {},
   "source": [
    "As a volume, the snub dodecahedron can be seen as consisting of $80$ triangular pyramids and $12$ pentagonal pyramids, with apex at the origin $O=(0, 0, 0)$. The volume $V_3$ of one triangular pyramid:"
   ]
  },
  {
   "cell_type": "code",
   "execution_count": 17,
   "metadata": {},
   "outputs": [
    {
     "data": {
      "text/html": [
       "<html><script type=\"math/tex; mode=display\">\\newcommand{\\Bold}[1]{\\mathbf{#1}}\\phi \\xi^{2} - \\frac{2}{3} \\phi - \\frac{1}{3}</script></html>"
      ],
      "text/latex": [
       "\\begin{math}\n",
       "\\newcommand{\\Bold}[1]{\\mathbf{#1}}\\phi \\xi^{2} - \\frac{2}{3} \\phi - \\frac{1}{3}\n",
       "\\end{math}"
      ],
      "text/plain": [
       "phi*xi^2 - 2/3*phi - 1/3"
      ]
     },
     "execution_count": 17,
     "metadata": {},
     "output_type": "execute_result"
    }
   ],
   "source": [
    "D = R3*B\n",
    "V3 = 1/6*det(matrix([A, B, D])); V3"
   ]
  },
  {
   "cell_type": "markdown",
   "metadata": {},
   "source": [
    "To handle the pentagonal pyramids we need an additional vertex of the icosahedron we started with: $S=(1/\\varphi,1,0)$. $R_5$ will be the $72^\\circ$ rotation around the axis $OR$ taking $P$ to $Q$ and $Q$ to $S$ (and fixing $R$):"
   ]
  },
  {
   "cell_type": "code",
   "execution_count": 18,
   "metadata": {},
   "outputs": [
    {
     "data": {
      "text/html": [
       "<html><script type=\"math/tex; mode=display\">\\newcommand{\\Bold}[1]{\\mathbf{#1}}\\left(\\begin{array}{rrr}\n",
       "\\frac{1}{2} \\phi - \\frac{1}{2} & -\\frac{1}{2} \\phi & \\frac{1}{2} \\\\\n",
       "\\frac{1}{2} \\phi & \\frac{1}{2} & \\frac{1}{2} \\phi - \\frac{1}{2} \\\\\n",
       "-\\frac{1}{2} & \\frac{1}{2} \\phi - \\frac{1}{2} & \\frac{1}{2} \\phi\n",
       "\\end{array}\\right)</script></html>"
      ],
      "text/latex": [
       "\\begin{math}\n",
       "\\newcommand{\\Bold}[1]{\\mathbf{#1}}\\left(\\begin{array}{rrr}\n",
       "\\frac{1}{2} \\phi - \\frac{1}{2} & -\\frac{1}{2} \\phi & \\frac{1}{2} \\\\\n",
       "\\frac{1}{2} \\phi & \\frac{1}{2} & \\frac{1}{2} \\phi - \\frac{1}{2} \\\\\n",
       "-\\frac{1}{2} & \\frac{1}{2} \\phi - \\frac{1}{2} & \\frac{1}{2} \\phi\n",
       "\\end{array}\\right)\n",
       "\\end{math}"
      ],
      "text/plain": [
       "[1/2*phi - 1/2      -1/2*phi           1/2]\n",
       "[      1/2*phi           1/2 1/2*phi - 1/2]\n",
       "[         -1/2 1/2*phi - 1/2       1/2*phi]"
      ]
     },
     "execution_count": 18,
     "metadata": {},
     "output_type": "execute_result"
    }
   ],
   "source": [
    "S = vector([1/phi, 1, 0])\n",
    "R5 = matrix([Q, S, R]).transpose()*matrix([P, Q, R]).inverse().transpose(); R5"
   ]
  },
  {
   "cell_type": "markdown",
   "metadata": {},
   "source": [
    "The volume $V_5$ of one pentagonal pyramid:"
   ]
  },
  {
   "cell_type": "code",
   "execution_count": 19,
   "metadata": {},
   "outputs": [
    {
     "data": {
      "text/html": [
       "<html><script type=\"math/tex; mode=display\">\\newcommand{\\Bold}[1]{\\mathbf{#1}}\\left(\\frac{1}{3} \\phi - \\frac{8}{3}\\right) \\xi^{2} + \\left(\\frac{28}{3} \\phi + \\frac{16}{3}\\right) \\xi - 8 \\phi - \\frac{13}{3}</script></html>"
      ],
      "text/latex": [
       "\\begin{math}\n",
       "\\newcommand{\\Bold}[1]{\\mathbf{#1}}\\left(\\frac{1}{3} \\phi - \\frac{8}{3}\\right) \\xi^{2} + \\left(\\frac{28}{3} \\phi + \\frac{16}{3}\\right) \\xi - 8 \\phi - \\frac{13}{3}\n",
       "\\end{math}"
      ],
      "text/plain": [
       "(1/3*phi - 8/3)*xi^2 + (28/3*phi + 16/3)*xi - 8*phi - 13/3"
      ]
     },
     "execution_count": 19,
     "metadata": {},
     "output_type": "execute_result"
    }
   ],
   "source": [
    "E = R5*A\n",
    "G = R5*E\n",
    "V5 = 1/6*(2 + phi)*det(matrix([A, E, G])); V5"
   ]
  },
  {
   "cell_type": "markdown",
   "metadata": {},
   "source": [
    "The total volume is equal to $80 V_3 + 12 V_5$"
   ]
  },
  {
   "cell_type": "code",
   "execution_count": 20,
   "metadata": {},
   "outputs": [
    {
     "data": {
      "text/html": [
       "<html><script type=\"math/tex; mode=display\">\\newcommand{\\Bold}[1]{\\mathbf{#1}}\\left(84 \\phi - 32\\right) \\xi^{2} + \\left(112 \\phi + 64\\right) \\xi - \\frac{448}{3} \\phi - \\frac{236}{3}</script></html>"
      ],
      "text/latex": [
       "\\begin{math}\n",
       "\\newcommand{\\Bold}[1]{\\mathbf{#1}}\\left(84 \\phi - 32\\right) \\xi^{2} + \\left(112 \\phi + 64\\right) \\xi - \\frac{448}{3} \\phi - \\frac{236}{3}\n",
       "\\end{math}"
      ],
      "text/plain": [
       "(84*phi - 32)*xi^2 + (112*phi + 64)*xi - 448/3*phi - 236/3"
      ]
     },
     "execution_count": 20,
     "metadata": {},
     "output_type": "execute_result"
    }
   ],
   "source": [
    "V = 80*V3 + 12*V5; V"
   ]
  },
  {
   "cell_type": "markdown",
   "metadata": {},
   "source": [
    "If we want the volume of a snub dodecahedron with unit edge length we have to divide by the cube of the edge length. We first divide by the edge length squared:"
   ]
  },
  {
   "cell_type": "code",
   "execution_count": 21,
   "metadata": {},
   "outputs": [
    {
     "data": {
      "text/html": [
       "<html><script type=\"math/tex; mode=display\">\\newcommand{\\Bold}[1]{\\mathbf{#1}}\\left(6 \\phi + 2\\right) \\xi^{2} + \\left(6 \\phi + 2\\right) \\xi - \\frac{1}{3} \\phi - 4</script></html>"
      ],
      "text/latex": [
       "\\begin{math}\n",
       "\\newcommand{\\Bold}[1]{\\mathbf{#1}}\\left(6 \\phi + 2\\right) \\xi^{2} + \\left(6 \\phi + 2\\right) \\xi - \\frac{1}{3} \\phi - 4\n",
       "\\end{math}"
      ],
      "text/plain": [
       "(6*phi + 2)*xi^2 + (6*phi + 2)*xi - 1/3*phi - 4"
      ]
     },
     "execution_count": 21,
     "metadata": {},
     "output_type": "execute_result"
    }
   ],
   "source": [
    "V/(A - B).dot_product(A - B)"
   ]
  },
  {
   "cell_type": "markdown",
   "metadata": {},
   "source": [
    "This, together with the expression for the edge length, gives the following fairly simple formula for the volume of a snub dodecahedron of unit edge length:\n",
    "\n",
    "\\begin{equation}\n",
    "    \\frac{(3\\varphi+1)\\xi^2+(3\\varphi+1)\\xi-\\varphi/6-2}{\\sqrt{3\\xi^2-\\varphi^2}}.\n",
    "\\end{equation}"
   ]
  },
  {
   "cell_type": "markdown",
   "metadata": {},
   "source": [
    "The snub dodecahedron has two inscribed spheres: one touching the triangular faces, and one, slightly smaller, touching the pentagonal faces. We can compute the squares of their radii, by first computing the centers $C_3$ and $C_5$ of a triangular and pentagonal face:"
   ]
  },
  {
   "cell_type": "code",
   "execution_count": 22,
   "metadata": {},
   "outputs": [
    {
     "data": {
      "text/html": [
       "<html><script type=\"math/tex; mode=display\">\\newcommand{\\Bold}[1]{\\mathbf{#1}}\\frac{1}{3} \\phi + \\frac{1}{3}</script></html>"
      ],
      "text/latex": [
       "\\begin{math}\n",
       "\\newcommand{\\Bold}[1]{\\mathbf{#1}}\\frac{1}{3} \\phi + \\frac{1}{3}\n",
       "\\end{math}"
      ],
      "text/plain": [
       "1/3*phi + 1/3"
      ]
     },
     "execution_count": 22,
     "metadata": {},
     "output_type": "execute_result"
    }
   ],
   "source": [
    "C3 = 1/3*sum([R3**i*A for i in range(3)])\n",
    "C3.dot_product(C3)"
   ]
  },
  {
   "cell_type": "markdown",
   "metadata": {},
   "source": [
    "This is not surprising: it is the squared inradius of the icosahedron we started with."
   ]
  },
  {
   "cell_type": "code",
   "execution_count": 23,
   "metadata": {},
   "outputs": [
    {
     "data": {
      "text/html": [
       "<html><script type=\"math/tex; mode=display\">\\newcommand{\\Bold}[1]{\\mathbf{#1}}\\left(-\\frac{12}{5} \\phi - \\frac{4}{5}\\right) \\xi^{2} + \\frac{11}{5} \\phi + \\frac{7}{5}</script></html>"
      ],
      "text/latex": [
       "\\begin{math}\n",
       "\\newcommand{\\Bold}[1]{\\mathbf{#1}}\\left(-\\frac{12}{5} \\phi - \\frac{4}{5}\\right) \\xi^{2} + \\frac{11}{5} \\phi + \\frac{7}{5}\n",
       "\\end{math}"
      ],
      "text/plain": [
       "(-12/5*phi - 4/5)*xi^2 + 11/5*phi + 7/5"
      ]
     },
     "execution_count": 23,
     "metadata": {},
     "output_type": "execute_result"
    }
   ],
   "source": [
    "C5 = 1/5*sum([R5**i*A for i in range(5)])\n",
    "C5.dot_product(C5)"
   ]
  },
  {
   "cell_type": "markdown",
   "metadata": {},
   "source": [
    "We can also compute the (cosine of) the angle $\\phi_{33}$ between adjacent triangular faces. Let $C_3^\\prime$ be the center of the triangle $ABC$. Then the cosine of the angle between the vectors $C_3$ and $C_3^\\prime$ equals $(C_3,C_3^\\prime)/(|C_3||C_3^\\prime|) = (C_3,C_3^\\prime)/(C_3,C_3)$, because $|C_3|=|C_3^\\prime| = \\sqrt{(C_3, C_3)}$. So for the angle $\\phi_{33}$ between the faces $ABD$ and $ABC$ (with normals $C_3$ and $C_3^\\prime$) we have:"
   ]
  },
  {
   "cell_type": "code",
   "execution_count": 24,
   "metadata": {},
   "outputs": [
    {
     "data": {
      "text/html": [
       "<html><script type=\"math/tex; mode=display\">\\newcommand{\\Bold}[1]{\\mathbf{#1}}-\\frac{2}{3} \\xi - \\frac{1}{3}</script></html>"
      ],
      "text/latex": [
       "\\begin{math}\n",
       "\\newcommand{\\Bold}[1]{\\mathbf{#1}}-\\frac{2}{3} \\xi - \\frac{1}{3}\n",
       "\\end{math}"
      ],
      "text/plain": [
       "-2/3*xi - 1/3"
      ]
     },
     "execution_count": 24,
     "metadata": {},
     "output_type": "execute_result"
    }
   ],
   "source": [
    "C = vector((-x, -y, z))\n",
    "C31 = 1/3*(A + B + C)\n",
    "cosphi33 = -C31.dot_product(C3)/C3.dot_product(C3); cosphi33\n"
   ]
  },
  {
   "cell_type": "markdown",
   "metadata": {},
   "source": [
    "Similarly, (the square of the cosine of) the angle $\\phi_{35 }$ between a triangular and an adjacent pentagonal face:"
   ]
  },
  {
   "cell_type": "code",
   "execution_count": 25,
   "metadata": {},
   "outputs": [
    {
     "data": {
      "text/html": [
       "<html><script type=\"math/tex; mode=display\">\\newcommand{\\Bold}[1]{\\mathbf{#1}}\\left(-\\frac{4}{15} \\phi - \\frac{8}{15}\\right) \\xi^{2} + \\left(-\\frac{4}{15} \\phi - \\frac{8}{15}\\right) \\xi + \\frac{4}{5} \\phi + \\frac{19}{15}</script></html>"
      ],
      "text/latex": [
       "\\begin{math}\n",
       "\\newcommand{\\Bold}[1]{\\mathbf{#1}}\\left(-\\frac{4}{15} \\phi - \\frac{8}{15}\\right) \\xi^{2} + \\left(-\\frac{4}{15} \\phi - \\frac{8}{15}\\right) \\xi + \\frac{4}{5} \\phi + \\frac{19}{15}\n",
       "\\end{math}"
      ],
      "text/plain": [
       "(-4/15*phi - 8/15)*xi^2 + (-4/15*phi - 8/15)*xi + 4/5*phi + 19/15"
      ]
     },
     "execution_count": 25,
     "metadata": {},
     "output_type": "execute_result"
    }
   ],
   "source": [
    "C32 = 1/3*(A + D + E)\n",
    "v1 = C32.dot_product(C5)\n",
    "v2 = C32.dot_product(C32)\n",
    "v3 = C5.dot_product(C5)\n",
    "cosphi35square = v1**2/(v2*v3); cosphi35square"
   ]
  },
  {
   "cell_type": "markdown",
   "metadata": {},
   "source": [
    "**Numerical values** \n",
    "\n",
    "We now do all the preceding computations once again, this time not symbolically but numerically. From now on, $\\xi$ will be the *real* number satisfying $\\xi^3+2\\xi^2=\\varphi^2$. We start by getting numerical values for $\\varphi$ and $\\xi$:"
   ]
  },
  {
   "cell_type": "code",
   "execution_count": 26,
   "metadata": {},
   "outputs": [
    {
     "data": {
      "text/html": [
       "<html><script type=\"math/tex; mode=display\">\\newcommand{\\Bold}[1]{\\mathbf{#1}}1.61803398874989</script></html>"
      ],
      "text/latex": [
       "\\begin{math}\n",
       "\\newcommand{\\Bold}[1]{\\mathbf{#1}}1.61803398874989\n",
       "\\end{math}"
      ],
      "text/plain": [
       "1.61803398874989"
      ]
     },
     "execution_count": 26,
     "metadata": {},
     "output_type": "execute_result"
    }
   ],
   "source": [
    "phi = .5 + .5*5.**.5; phi"
   ]
  },
  {
   "cell_type": "code",
   "execution_count": 27,
   "metadata": {},
   "outputs": [
    {
     "data": {
      "text/html": [
       "<html><script type=\"math/tex; mode=display\">\\newcommand{\\Bold}[1]{\\mathbf{#1}}0.9431512592438817</script></html>"
      ],
      "text/latex": [
       "\\begin{math}\n",
       "\\newcommand{\\Bold}[1]{\\mathbf{#1}}0.9431512592438817\n",
       "\\end{math}"
      ],
      "text/plain": [
       "0.9431512592438817"
      ]
     },
     "execution_count": 27,
     "metadata": {},
     "output_type": "execute_result"
    }
   ],
   "source": [
    "from numpy import array, roots\n",
    "\n",
    "def is_real(x):\n",
    "    eps = .0001\n",
    "    return (abs(x.imag) < eps)\n",
    "\n",
    "def first_real_root(p):\n",
    "    for x in roots(p):\n",
    "        if is_real(x):\n",
    "            return x.real\n",
    "    raise Exception('No real element')\n",
    "\n",
    "p = array([1., 2., 0., -phi**2])\n",
    "xi = first_real_root(p); xi"
   ]
  },
  {
   "cell_type": "code",
   "execution_count": 28,
   "metadata": {},
   "outputs": [],
   "source": [
    "P = vector([0., -1./phi, 1.])\n",
    "Q = vector([1., 0., 1./phi])\n",
    "R = vector([0, 1./phi, 1.])\n",
    "R3 = matrix([Q, R, P]).transpose()*matrix([P, Q, R]).inverse().transpose()\n",
    "x, y, z = (-phi - 1)*xi + phi + 1, 2*phi*xi^2 + phi*xi - 2*phi - 1, xi\n",
    "A = vector([x, y, z])\n",
    "B = R3*A"
   ]
  },
  {
   "cell_type": "markdown",
   "metadata": {},
   "source": [
    "Edge length:"
   ]
  },
  {
   "cell_type": "code",
   "execution_count": 29,
   "metadata": {},
   "outputs": [
    {
     "data": {
      "text/html": [
       "<html><script type=\"math/tex; mode=display\">\\newcommand{\\Bold}[1]{\\mathbf{#1}}0.4497506184100908</script></html>"
      ],
      "text/latex": [
       "\\begin{math}\n",
       "\\newcommand{\\Bold}[1]{\\mathbf{#1}}0.4497506184100908\n",
       "\\end{math}"
      ],
      "text/plain": [
       "0.4497506184100908"
      ]
     },
     "execution_count": 29,
     "metadata": {},
     "output_type": "execute_result"
    }
   ],
   "source": [
    "l = (A - B).dot_product(A - B)**.5; l"
   ]
  },
  {
   "cell_type": "markdown",
   "metadata": {},
   "source": [
    "For the numerical results it seems more natural to have an edge length equal to $1$. For the remainder of this section we will therefore divide lengths by $l$, areas by $l^2$ and volumes by $l^3$."
   ]
  },
  {
   "cell_type": "markdown",
   "metadata": {},
   "source": [
    "The circumradius:"
   ]
  },
  {
   "cell_type": "code",
   "execution_count": 30,
   "metadata": {},
   "outputs": [
    {
     "data": {
      "text/html": [
       "<html><script type=\"math/tex; mode=display\">\\newcommand{\\Bold}[1]{\\mathbf{#1}}2.155837375115645</script></html>"
      ],
      "text/latex": [
       "\\begin{math}\n",
       "\\newcommand{\\Bold}[1]{\\mathbf{#1}}2.155837375115645\n",
       "\\end{math}"
      ],
      "text/plain": [
       "2.155837375115645"
      ]
     },
     "execution_count": 30,
     "metadata": {},
     "output_type": "execute_result"
    }
   ],
   "source": [
    "A.dot_product(A)**.5/l"
   ]
  },
  {
   "cell_type": "markdown",
   "metadata": {},
   "source": [
    "The volume of one triangular pyramid:"
   ]
  },
  {
   "cell_type": "code",
   "execution_count": 31,
   "metadata": {},
   "outputs": [
    {
     "data": {
      "text/html": [
       "<html><script type=\"math/tex; mode=display\">\\newcommand{\\Bold}[1]{\\mathbf{#1}}0.299802068545933</script></html>"
      ],
      "text/latex": [
       "\\begin{math}\n",
       "\\newcommand{\\Bold}[1]{\\mathbf{#1}}0.299802068545933\n",
       "\\end{math}"
      ],
      "text/plain": [
       "0.299802068545933"
      ]
     },
     "execution_count": 31,
     "metadata": {},
     "output_type": "execute_result"
    }
   ],
   "source": [
    "D = R3*B\n",
    "V3 = 1./6.*det(matrix([A, B, D]))/l^3; V3"
   ]
  },
  {
   "cell_type": "markdown",
   "metadata": {},
   "source": [
    "The volume of one pentagonal pyramid:"
   ]
  },
  {
   "cell_type": "code",
   "execution_count": 32,
   "metadata": {},
   "outputs": [
    {
     "data": {
      "text/html": [
       "<html><script type=\"math/tex; mode=display\">\\newcommand{\\Bold}[1]{\\mathbf{#1}}1.13604037325491</script></html>"
      ],
      "text/latex": [
       "\\begin{math}\n",
       "\\newcommand{\\Bold}[1]{\\mathbf{#1}}1.13604037325491\n",
       "\\end{math}"
      ],
      "text/plain": [
       "1.13604037325491"
      ]
     },
     "execution_count": 32,
     "metadata": {},
     "output_type": "execute_result"
    }
   ],
   "source": [
    "S = vector([1./phi, 1., 0.])\n",
    "R5 = matrix([Q, S, R]).transpose()*matrix([P, Q, R]).inverse().transpose()\n",
    "E = R5*A\n",
    "G = R5*E\n",
    "V5 = 1./6.*(2. + phi)*det(matrix([A, E, G]))/l^3; V5"
   ]
  },
  {
   "cell_type": "markdown",
   "metadata": {},
   "source": [
    "The total volume:"
   ]
  },
  {
   "cell_type": "code",
   "execution_count": 33,
   "metadata": {},
   "outputs": [
    {
     "data": {
      "text/html": [
       "<html><script type=\"math/tex; mode=display\">\\newcommand{\\Bold}[1]{\\mathbf{#1}}37.6166499627336</script></html>"
      ],
      "text/latex": [
       "\\begin{math}\n",
       "\\newcommand{\\Bold}[1]{\\mathbf{#1}}37.6166499627336\n",
       "\\end{math}"
      ],
      "text/plain": [
       "37.6166499627336"
      ]
     },
     "execution_count": 33,
     "metadata": {},
     "output_type": "execute_result"
    }
   ],
   "source": [
    "80.*V3 + 12.*V5"
   ]
  },
  {
   "cell_type": "markdown",
   "metadata": {},
   "source": [
    "The triangular faces inradius:"
   ]
  },
  {
   "cell_type": "code",
   "execution_count": 34,
   "metadata": {},
   "outputs": [
    {
     "data": {
      "text/html": [
       "<html><script type=\"math/tex; mode=display\">\\newcommand{\\Bold}[1]{\\mathbf{#1}}2.07708965974321</script></html>"
      ],
      "text/latex": [
       "\\begin{math}\n",
       "\\newcommand{\\Bold}[1]{\\mathbf{#1}}2.07708965974321\n",
       "\\end{math}"
      ],
      "text/plain": [
       "2.07708965974321"
      ]
     },
     "execution_count": 34,
     "metadata": {},
     "output_type": "execute_result"
    }
   ],
   "source": [
    "C3 = 1./3.*sum([R3**i*A for i in range(3)])\n",
    "C3.dot_product(C3)**.5/l"
   ]
  },
  {
   "cell_type": "markdown",
   "metadata": {},
   "source": [
    "The pentagonal faces inradius:"
   ]
  },
  {
   "cell_type": "code",
   "execution_count": 35,
   "metadata": {},
   "outputs": [
    {
     "data": {
      "text/html": [
       "<html><script type=\"math/tex; mode=display\">\\newcommand{\\Bold}[1]{\\mathbf{#1}}1.98091594728185</script></html>"
      ],
      "text/latex": [
       "\\begin{math}\n",
       "\\newcommand{\\Bold}[1]{\\mathbf{#1}}1.98091594728185\n",
       "\\end{math}"
      ],
      "text/plain": [
       "1.98091594728185"
      ]
     },
     "execution_count": 35,
     "metadata": {},
     "output_type": "execute_result"
    }
   ],
   "source": [
    "C5 = 1./5.*sum([R5**i*A for i in range(5)])\n",
    "C5.dot_product(C5)**.5/l"
   ]
  },
  {
   "cell_type": "markdown",
   "metadata": {},
   "source": [
    "The triangle-triangle dihedral angle (degrees):"
   ]
  },
  {
   "cell_type": "code",
   "execution_count": 36,
   "metadata": {},
   "outputs": [
    {
     "data": {
      "text/html": [
       "<html><script type=\"math/tex; mode=display\">\\newcommand{\\Bold}[1]{\\mathbf{#1}}164.1753660560339</script></html>"
      ],
      "text/latex": [
       "\\begin{math}\n",
       "\\newcommand{\\Bold}[1]{\\mathbf{#1}}164.1753660560339\n",
       "\\end{math}"
      ],
      "text/plain": [
       "164.1753660560339"
      ]
     },
     "execution_count": 36,
     "metadata": {},
     "output_type": "execute_result"
    }
   ],
   "source": [
    "C = vector((-x, -y, z))\n",
    "C31 = 1/3*(A + B + C)\n",
    "cosphi33 = -C31.dot_product(C3)/C3.dot_product(C3)\n",
    "\n",
    "from numpy import arccos, pi\n",
    "arccos(cosphi33)*180./pi"
   ]
  },
  {
   "cell_type": "markdown",
   "metadata": {},
   "source": [
    "The triangle-pentagon dihedral angle (degrees:)"
   ]
  },
  {
   "cell_type": "code",
   "execution_count": 37,
   "metadata": {},
   "outputs": [
    {
     "data": {
      "text/html": [
       "<html><script type=\"math/tex; mode=display\">\\newcommand{\\Bold}[1]{\\mathbf{#1}}152.929920275835</script></html>"
      ],
      "text/latex": [
       "\\begin{math}\n",
       "\\newcommand{\\Bold}[1]{\\mathbf{#1}}152.929920275835\n",
       "\\end{math}"
      ],
      "text/plain": [
       "152.929920275835"
      ]
     },
     "execution_count": 37,
     "metadata": {},
     "output_type": "execute_result"
    }
   ],
   "source": [
    "C32 = 1/3*(A + D + E)\n",
    "v1 = C32.dot_product(C5)\n",
    "v2 = C32.dot_product(C32)\n",
    "v3 = C5.dot_product(C5)\n",
    "cosphi35 = -v1/(v2*v3)**.5; arccos(cosphi35)*180./pi"
   ]
  },
  {
   "cell_type": "markdown",
   "metadata": {},
   "source": [
    "We can show that the Adams and Kosters expressions are equal."
   ]
  },
  {
   "cell_type": "code",
   "execution_count": 38,
   "metadata": {},
   "outputs": [],
   "source": [
    "r.<phi> = QQ[]"
   ]
  },
  {
   "cell_type": "code",
   "execution_count": 39,
   "metadata": {},
   "outputs": [],
   "source": [
    "k.<phi> = NumberField(phi^2 - phi - 1)"
   ]
  },
  {
   "cell_type": "code",
   "execution_count": 40,
   "metadata": {},
   "outputs": [],
   "source": [
    "r.<xi> = QQ[]"
   ]
  },
  {
   "cell_type": "code",
   "execution_count": 41,
   "metadata": {},
   "outputs": [],
   "source": [
    "k.<xi> = NumberField(xi^3 + 2*xi^2 - phi^2)"
   ]
  },
  {
   "cell_type": "markdown",
   "metadata": {},
   "source": [
    "From Adams solution, $\\eta$:"
   ]
  },
  {
   "cell_type": "code",
   "execution_count": 42,
   "metadata": {},
   "outputs": [],
   "source": [
    "eta = phi/xi"
   ]
  },
  {
   "cell_type": "markdown",
   "metadata": {},
   "source": [
    "It satisfies $\\eta^3 -2\\eta - \\varphi = 0$:"
   ]
  },
  {
   "cell_type": "code",
   "execution_count": 43,
   "metadata": {},
   "outputs": [
    {
     "data": {
      "text/html": [
       "<html><script type=\"math/tex; mode=display\">\\newcommand{\\Bold}[1]{\\mathbf{#1}}0</script></html>"
      ],
      "text/latex": [
       "\\begin{math}\n",
       "\\newcommand{\\Bold}[1]{\\mathbf{#1}}0\n",
       "\\end{math}"
      ],
      "text/plain": [
       "0"
      ]
     },
     "execution_count": 43,
     "metadata": {},
     "output_type": "execute_result"
    }
   ],
   "source": [
    "eta^3 - 2*eta - phi"
   ]
  },
  {
   "cell_type": "markdown",
   "metadata": {},
   "source": [
    "Now write Adams expression as \n",
    "\\begin{equation}\n",
    "    \\frac{10\\varphi}{3}\\sqrt{A} + \\frac{\\varphi^2}{2}\\sqrt{B}\n",
    "\\end{equation}\n",
    "(write $\\sqrt{5}= 2\\varphi-1$):"
   ]
  },
  {
   "cell_type": "code",
   "execution_count": 44,
   "metadata": {},
   "outputs": [
    {
     "data": {
      "text/html": [
       "<html><script type=\"math/tex; mode=display\">\\newcommand{\\Bold}[1]{\\mathbf{#1}}3 \\xi^{2} + 9 \\xi + \\phi + 7</script></html>"
      ],
      "text/latex": [
       "\\begin{math}\n",
       "\\newcommand{\\Bold}[1]{\\mathbf{#1}}3 \\xi^{2} + 9 \\xi + \\phi + 7\n",
       "\\end{math}"
      ],
      "text/plain": [
       "3*xi^2 + 9*xi + phi + 7"
      ]
     },
     "execution_count": 44,
     "metadata": {},
     "output_type": "execute_result"
    }
   ],
   "source": [
    "A = (phi^2 + 3*eta*(phi + eta)); A"
   ]
  },
  {
   "cell_type": "code",
   "execution_count": 45,
   "metadata": {},
   "outputs": [
    {
     "data": {
      "text/html": [
       "<html><script type=\"math/tex; mode=display\">\\newcommand{\\Bold}[1]{\\mathbf{#1}}\\left(5 \\phi + 10\\right) \\xi^{2} + \\left(15 \\phi + 30\\right) \\xi + 10 \\phi + 25</script></html>"
      ],
      "text/latex": [
       "\\begin{math}\n",
       "\\newcommand{\\Bold}[1]{\\mathbf{#1}}\\left(5 \\phi + 10\\right) \\xi^{2} + \\left(15 \\phi + 30\\right) \\xi + 10 \\phi + 25\n",
       "\\end{math}"
      ],
      "text/plain": [
       "(5*phi + 10)*xi^2 + (15*phi + 30)*xi + 10*phi + 25"
      ]
     },
     "execution_count": 45,
     "metadata": {},
     "output_type": "execute_result"
    }
   ],
   "source": [
    "B = (5 + 5*(2*phi -1)*phi*eta*(phi + eta)); B"
   ]
  },
  {
   "cell_type": "markdown",
   "metadata": {},
   "source": [
    "Now put $A^\\prime = (3\\xi^2 - \\phi^2)A$ and $B^\\prime = (3\\xi^2 - \\phi^2)B$:"
   ]
  },
  {
   "cell_type": "code",
   "execution_count": 46,
   "metadata": {},
   "outputs": [
    {
     "data": {
      "text/html": [
       "<html><script type=\"math/tex; mode=display\">\\newcommand{\\Bold}[1]{\\mathbf{#1}}1</script></html>"
      ],
      "text/latex": [
       "\\begin{math}\n",
       "\\newcommand{\\Bold}[1]{\\mathbf{#1}}1\n",
       "\\end{math}"
      ],
      "text/plain": [
       "1"
      ]
     },
     "execution_count": 46,
     "metadata": {},
     "output_type": "execute_result"
    }
   ],
   "source": [
    "A1 = (3*xi^2 - phi^2)*A; A1"
   ]
  },
  {
   "cell_type": "code",
   "execution_count": 47,
   "metadata": {},
   "outputs": [
    {
     "data": {
      "text/html": [
       "<html><script type=\"math/tex; mode=display\">\\newcommand{\\Bold}[1]{\\mathbf{#1}}-20 \\phi \\xi^{2} + 15 \\phi + 10</script></html>"
      ],
      "text/latex": [
       "\\begin{math}\n",
       "\\newcommand{\\Bold}[1]{\\mathbf{#1}}-20 \\phi \\xi^{2} + 15 \\phi + 10\n",
       "\\end{math}"
      ],
      "text/plain": [
       "-20*phi*xi^2 + 15*phi + 10"
      ]
     },
     "execution_count": 47,
     "metadata": {},
     "output_type": "execute_result"
    }
   ],
   "source": [
    "B1 = (3*xi^2 - phi^2)*B; B1"
   ]
  },
  {
   "cell_type": "markdown",
   "metadata": {},
   "source": [
    "Now $\\sqrt{B^\\prime}=(4\\varphi - 2)\\xi^2 + (4\\varphi - 2)\\xi - 3\\varphi - 1$:"
   ]
  },
  {
   "cell_type": "code",
   "execution_count": 48,
   "metadata": {},
   "outputs": [
    {
     "data": {
      "text/html": [
       "<html><script type=\"math/tex; mode=display\">\\newcommand{\\Bold}[1]{\\mathbf{#1}}0</script></html>"
      ],
      "text/latex": [
       "\\begin{math}\n",
       "\\newcommand{\\Bold}[1]{\\mathbf{#1}}0\n",
       "\\end{math}"
      ],
      "text/plain": [
       "0"
      ]
     },
     "execution_count": 48,
     "metadata": {},
     "output_type": "execute_result"
    }
   ],
   "source": [
    "sqrtB1 = (4*phi - 2)*xi^2 + (4*phi - 2)*xi - 3*phi - 1; sqrtB1^2 - B1"
   ]
  },
  {
   "cell_type": "markdown",
   "metadata": {},
   "source": [
    "Now Adams expression can be written as\n",
    "\n",
    "\\begin{equation}\n",
    "    (\\frac{10\\varphi}{3}\\sqrt{A^\\prime} + \\frac{\\varphi^2}{2}\\sqrt{B^\\prime})/\\sqrt{3\\xi^2-\\varphi^2}\n",
    "\\end{equation}"
   ]
  },
  {
   "cell_type": "markdown",
   "metadata": {},
   "source": [
    "Computing the numerator of this expression shows that Adams expression is indeed equal to Kosters expression:"
   ]
  },
  {
   "cell_type": "code",
   "execution_count": 49,
   "metadata": {},
   "outputs": [
    {
     "data": {
      "text/html": [
       "<html><script type=\"math/tex; mode=display\">\\newcommand{\\Bold}[1]{\\mathbf{#1}}\\left(3 \\phi + 1\\right) \\xi^{2} + \\left(3 \\phi + 1\\right) \\xi - \\frac{1}{6} \\phi - 2</script></html>"
      ],
      "text/latex": [
       "\\begin{math}\n",
       "\\newcommand{\\Bold}[1]{\\mathbf{#1}}\\left(3 \\phi + 1\\right) \\xi^{2} + \\left(3 \\phi + 1\\right) \\xi - \\frac{1}{6} \\phi - 2\n",
       "\\end{math}"
      ],
      "text/plain": [
       "(3*phi + 1)*xi^2 + (3*phi + 1)*xi - 1/6*phi - 2"
      ]
     },
     "execution_count": 49,
     "metadata": {},
     "output_type": "execute_result"
    }
   ],
   "source": [
    "10/3*phi + phi^2/2*sqrtB1"
   ]
  },
  {
   "cell_type": "markdown",
   "metadata": {},
   "source": [
    "![Snub_Dodecahedron](https://archimedeansolids.github.io/w3images/Dual_Snub_Dodecahedron.png)"
   ]
  },
  {
   "cell_type": "markdown",
   "metadata": {},
   "source": [
    "\\begin{align*}\n",
    " laevo\\;and\\;dextro\n",
    "\\end{align*}"
   ]
  },
  {
   "cell_type": "markdown",
   "metadata": {},
   "source": [
    "## Harish C. Rajpoot\n",
    "\n",
    "[Harish Chandra Rajpoot](https://notionpress.com/author/HarishChandraRajpoot) published [“Optimum Solution of Snub Dodecahedron\"](https://www.researchgate.net/publication/335967411_Optimum_Solution_of_Snub_Dodecahedron_an_Archimedean_Solid_by_Using_HCR's_Theory_of_Polygon_Newton-Raphson_Method)[<sup>3</sup>](#fn3) HCR's Theory of Polygon & Newton-Raphson Method is used to calculate the volume of the Snub Dodecahedron.\n",
    "After only 7 iterations, the calculated volume matches the closed-form solutions to 50 digits of accuracy. \n",
    "\\begin{align*}\n",
    "\\\\&\n",
    "Iterate\\,to\\,find\\,Circumradius\\quad\n",
    "C_{0} = 2.3\\quad C_{n+1}=\\frac{f(C_{n})}{f\\prime (C_{n})}\n",
    "\\\\&\n",
    "f(x)= 256(3-\\sqrt{5})x^8 - 128(13-2\\sqrt{5})x^6 + 32(35-3\\sqrt{5})x^4 - 16(19-\\sqrt{5})x^2 +(29-\\sqrt{5})\n",
    "\\\\&\n",
    "f\\prime(x)= 2048(3-\\sqrt{5})x^7 - 768(13-2\\sqrt{5})x^5 + 128(35-3\\sqrt{5})x^3 - 32(19-\\sqrt{5})x\n",
    "\\\\&\n",
    "Volume = \\left( \\frac{20\\sqrt{3C^2-1}}{3} + \n",
    "\\sqrt{ \\frac{10(5+2\\sqrt{5})C^2 - 5((7+3\\sqrt{5})}{2}} \\right)\n",
    "\\end{align*}"
   ]
  },
  {
   "cell_type": "markdown",
   "metadata": {},
   "source": [
    "## Numerical\n",
    "\n",
    "Jupyter notebook [Snub Dodecahedron Volume Calculated Six Ways](https://nbviewer.org/url/archimedeansolids.github.io/Snub_Dodecahedron_Six_Ways.ipynb)[<sup>4</sup>](#fn4)\n",
    " is a supplement to this essay. Six Python classes, each calculating the volume of the Snub Dodecahedron in a different way, the five methods above plus a 3D Numerical method. 3D distances drive a numerical root finder. Two triangle objects are defined as adjacent triangles on a regular icosahedron. The algorithm is applied to one point on the plane of each triangle so that the distance of a side of an inscribed snub triangle is equal to the side of a non inscribed snub triangle.\n"
   ]
  },
  {
   "cell_type": "markdown",
   "metadata": {},
   "source": [
    "## Mark S. Adams\n",
    "Mark Shelby Adams published [\"Archimedean Platonic Solids\"](https://archive.org/details/archimedeanplatonicsolids/mode/2up)[<sup>7</sup>](#fn7). Whereas Kosters' solution inscribes a Snub Dodecahedron on to a regular icosahedron with an edge length of $\\frac{2}{\\color{DarkGoldenrod}{\\varphi}}$, Adams' solution inscribes a Snub Dodecahedron on to a regular icosahedron with an edge length of $1$.\n"
   ]
  },
  {
   "cell_type": "markdown",
   "metadata": {},
   "source": [
    "![Figure_1_Snub_Dodecahedron.png](https://archimedeansolids.github.io/w3images/Figure_1_Snub_Dodecahedron.png)"
   ]
  },
  {
   "cell_type": "markdown",
   "metadata": {},
   "source": [
    "<math>\n",
    "\\begin{array}{ll}\n",
    "Base\\,Icosahedron\\,faces:\\quad \\color{blue}{\\triangle A\\,B\\,C,\\; \\triangle A\\prime \\,B\\,C}\n",
    "&\n",
    "\\color {blue}{\\overline{AB}} \\,=\\,\n",
    "\\color {blue}{\\overline{BC}} \\,=\\,\n",
    "\\color {blue}{\\overline{CA}} \\,=\\,\n",
    "\\color {blue}{\\overline{A\\prime}B} \\,=\\,\n",
    "\\color {blue}{\\overline{CA\\prime}} \\,=\\, 1\n",
    "\\\\\n",
    "Inscribed\\,Snub\\,Dodecahedron\\,faces:\\quad \\color {blue}{\\triangle g\\,j\\,k,\\; \\triangle g\\prime\\,j\\prime\\,k\\prime}\n",
    "&\n",
    "\\color {red}{\\overline{gj}} \\,=\\,\n",
    "\\color {red}{\\overline{jk}} \\,=\\,\n",
    "\\color {red}{\\overline{kg}} \\,=\\,\n",
    "\\color {red}{\\overline{gg\\prime}} \\,=\\,\n",
    "\\color {red}{\\overline{g\\prime j}} \\,=\\, \\color{green}{D\\,=\\, \\sqrt{3}\\sin\\alpha-\\cos\\alpha}\n",
    "\\\\\n",
    "Non\\,Inscribed\\,Snub\\,Dodecahedron\\,faces:\\quad \\color {red}{\\triangle g\\,g\\prime\\,j,\\; \\triangle g\\prime\\,g\\,j\\prime}\n",
    "&\n",
    "\\overline{\\color {red}{g}\\color {blue}{i}} \\,=\\,\n",
    "\\overline{\\color {blue}{i}\\color {red}{j}} \\,=\\,\n",
    "\\overline{\\color {blue}{i}\\color {green}{d}} \\,=\\,\n",
    "\\overline{\\color {red}{g}\\color {green}{d}} \\,=\\,\n",
    "\\overline{\\color {green}{d}\\color {red}{g\\prime}} \\,=\\,\n",
    "\\color{green}{\\frac{D}{2}}\n",
    "\\\\\n",
    "Mid\\,points\\,on\\, \\color {red}{\\triangle g\\,g\\prime\\,j}:\\quad\\color {blue}{i} \\; \\color {green}{d} \\; \\color {red}{m}\n",
    "&\n",
    "\\color{red}{ \\overline{\\color{blue}{a}\\color{green}{f}}^2} \\,+\\,\n",
    "\\color{red}{ \\overline{\\color{green}{f}\\color{red}{g}}^2} \\,=\\,\n",
    "\\color{blue}{ \\overline{\\color{blue}{a}\\color{red}{g}}^2} \\,=\\,\n",
    "\\color{green}{\\frac{D^2}{3}}\n",
    "\\\\\n",
    "Center\\,point\\,for\\,both\\,\\color {blue}{\\triangle A\\,B\\,C\\,and\\,\\triangle g\\,j\\,k:\\quad a}\n",
    "&\n",
    "\\color{blue}{ \\overline{\\color{blue}{a}\\color{green}{h}}^2} \\,+\\,\n",
    "\\color{blue}{ \\overline{\\color{green}{h}\\color{blue}{i}}^2} \\,=\\,\n",
    "\\color{blue}{ \\overline{\\color{blue}{a}\\color{blue}{i}}^2} \\,=\\,\n",
    "\\color{green}{\\frac{D^2}{12}}\n",
    "\\\\\n",
    "Center\\,point\\,for\\,both\\,\\color {blue}{\\triangle A\\prime\\,B\\,C\\,and\\,\\triangle g\\prime\\,j\\prime\\,k\\prime:\\quad a\\prime}\n",
    "&\n",
    "\\color{blue}{ \\overline{\\color{blue}{a}\\color{green}{h}}} \\,=\\,\n",
    "\\color{blue}{ \\overline{ai}\\cos(60-\\alpha)} \\,=\\,\n",
    "\\color{green}{\\frac{D}{4\\sqrt{3}} (\\cos\\alpha+\\sqrt{3}\\sin\\alpha)}\n",
    "\\\\\n",
    "Center\\,point\\,for\\,both\\,Icosahedron\\,and\\,Snub Dodecahedron:\\quad \\color{blue}{c}\\quad\\quad\n",
    "&\n",
    "\\color{blue}{ \\overline{\\color{blue}{a}\\color{green}{f}}} \\,=\\,\n",
    "\\color{blue}{ \\overline{a\\color{red}{g}}\\cos\\alpha} \\,=\\,\n",
    "\\color{green}{ \\frac{D}{ \\sqrt{3}}\\cos\\alpha}\n",
    "\\\\\n",
    "Right\\,angles:\\quad\n",
    "\\color{green}{\\angle} \\color{green}{f}\\color{green}{e}\\color{green}{d}\\;\n",
    "\\color{green}{\\angle} \\color{green}{f}\\color{green}{d}\\color{red}{b}\\;\n",
    "\\color{blue}{\\angle} \\color{blue}{a}\\color{green}{f}\\color{red}{g}\\;\n",
    "\\color{green}{\\angle} \\color{blue}{a}\\color{green}{h}\\color{blue}{i}\\;\n",
    "\\color{blue}{\\angle} \\color{blue}{a\\prime}\\color{green}{f\\prime}\\color{red}{g\\prime}\\;\n",
    "&\n",
    "\\color{red}{ \\overline{\\color{green}{f}\\color{red}{b}}} \\,=\\,\n",
    "\\color{red}{ \\overline{\\color{blue}{a}\\color{red}{b}}} \\,-\\,\n",
    "\\color{blue}{ \\overline{\\color{blue}{a}\\color{green}{f}}} \\,=\\,\n",
    "\\color{green}{\\frac{1}{2\\sqrt{3}} (1-2D\\cos\\alpha})\n",
    "\\\\\n",
    "Distance\\,of\\,the \\,Snub\\,Dodecahedron\\,edge:\\quad\\color{green}{D}\n",
    "&\n",
    "\\color{red}{  \\overline{  \\color{green}{e}\\color{red}{b}} } \\,=\\,\n",
    "\\color{red}{  \\overline{  \\color{green}{d}\\color{red}{b}} \\,sin\\beta} \\,=\\,\n",
    "\\color{red}{  \\overline{  \\color{green}{f}\\color{red}{b}} \\,sin^2\\beta}\n",
    "\\\\\n",
    "&\n",
    "\\color{red}{  \\overline{  \\color{green}{e}\\color{red}{b}}^2 } \\,+\\,\n",
    "\\color{blue}{  \\overline{  \\color{green}{e}\\color{green}{d}}^2} \\,=\\,\n",
    "\\color{red}{  \\overline{   \\color{green}{e}\\color  {red}{b}}^2} \\,\n",
    "(\\color{red}{1+}\\color{blue}{\\cot^2\\beta} \\color{red}{)} \\,=\\,\n",
    "\\color{red}{  \\overline{  \\color{green}{e}\\color{red}{b}}}\\,\n",
    "\\color{red}{  \\overline{  \\color{green}{f}\\color{red}{b}}}\n",
    "\\end{array}\n",
    "</math>\n"
   ]
  },
  {
   "cell_type": "markdown",
   "metadata": {},
   "source": [
    "$\n",
    "\\text{Equations 1 and 2 are second order equations of} \\;\\color{green}{D}.\n",
    "$\n"
   ]
  },
  {
   "cell_type": "markdown",
   "metadata": {},
   "source": [
    "$\n",
    "\\quad \\color{red}{ \\overline{\\color{red}{g}\\color{green}{d}}^2} \\,-\\,\n",
    "\\color{green}{\\frac{D^2}{4}} \\,=\\,\n",
    "\\color{red}{ \\overline{\\color{red}{g}\\color{green}{f}}^2} \\,+\\,\n",
    "\\color{blue}{ (  \\overline{\\color{blue}{a}\\color{red}{b}}} \\,-\\,\n",
    "\\color{blue}{    \\overline{\\color{blue}{a}\\color{green}{f}}} \\,-\\,\n",
    "\\color{green}{    \\overline{\\color{green}{e}\\color{red}{b}}  )^2  } \\,+\\,\n",
    "\\color{green}{ \\overline{\\color{green}{e}\\color{green}{d}}^2} \\,-\\,\n",
    "\\color{green}{\\frac{D^2}{4}} \\,=\\,0\n",
    "$"
   ]
  },
  {
   "cell_type": "markdown",
   "metadata": {},
   "source": [
    "$\n",
    "\\quad \\color{blue}{   \\overline{\\color{blue}{a}\\color{red}{g}}^2} \\,+\\,\n",
    "\\color{blue}{   \\overline{\\color{blue}{a}\\color{red}{b}}^2} \\,-\\,\n",
    "\\color{blue} {2\\,\\overline{\\color{blue}{a}\\color{red}{b}}} \\,\n",
    "\\color{blue}{   \\overline{\\color{blue}{a}\\color{green}{f}}} \\,+\\,\n",
    "\\color{green} {   \\overline{\\color{green}{e}\\color{red}{b}} \\, \\lbrack } \\,\n",
    "\\color{blue}{2\\,\\overline{\\color{blue }{a}\\color{green}{f}}} \\,-\\,\n",
    "\\color{blue}{2\\,\\overline{\\color{blue }{a}\\color{red  }{b}}} \\,+\\,\n",
    "\\color{green}{   \\overline{\\color{green}{f}\\color{red}{b}} \\rbrack }\\,-\\,\n",
    "\\color{green}{\\frac{D^2}{4}} \\,=\\,0\n",
    "$"
   ]
  },
  {
   "cell_type": "markdown",
   "metadata": {},
   "source": [
    "$\n",
    "\\quad \\color{red}{ \\frac{D^2}{3} \\,+\\, \\frac{1}{12}  \\,-\\,  \\frac{D}{3} \\, \\cos\\alpha  \\,+\\,  }\n",
    "\\color{red}{ \\sin^2\\beta \\, \\frac{1\\,-\\,2\\,D\\cos\\alpha}{2\\sqrt{3}}}\n",
    "\\color{red}{ \\left[ \\frac{2\\,D\\cos\\alpha}{\\sqrt{3}} \\,-\\, \\frac{1}{\\sqrt{3}} \\,+\\, \\frac{1\\,-\\,2\\,D\\cos\\alpha}{2\\sqrt{3}} \\right] } \\,-\\,\n",
    "\\color{green}{\\frac{D^2}{4}} \\,=\\,0\n",
    "$"
   ]
  },
  {
   "cell_type": "markdown",
   "metadata": {},
   "source": [
    "$\n",
    "\\color{red}{ D^2 \\,-\\, 4D\\,\\cos\\alpha \\,+\\, 1 \\,-\\, \\sin^2\\beta \\,(1 \\,-\\, 2\\,D\\,\\cos\\alpha)^2  \\,=\\, 0 \\quad(Eq.1)}\n",
    "$"
   ]
  },
  {
   "cell_type": "markdown",
   "metadata": {},
   "source": [
    "$\n",
    "\\quad \\color{blue}{ \\overline{\\color{blue}{i}\\color{green}{d}}^2} \\,-\\,\n",
    "\\color{green}{\\frac{D^2}{4}} \\,=\\,\n",
    "\\color{green}{ \\overline{\\color{green}{h}\\color{blue}{i}}^2} \\,+\\,\n",
    "\\color{blue}{ (  \\overline{\\color{blue}{a}\\color{red}{b}}} \\,-\\,\n",
    "\\color{blue}{    \\overline{\\color{blue}{a}\\color{green}{h}}} \\,-\\,\n",
    "\\color{green}{    \\overline{\\color{green}{e}\\color{red}{b}} }  \\color{blue }{)^2}  \\,+\\,\n",
    "\\color{green}{ \\overline{\\color{green}{e}\\color{green}{d}}^2} \\,-\\,\n",
    "\\color{green}{\\frac{D^2}{4}} \\,=\\,0\n",
    "$"
   ]
  },
  {
   "cell_type": "markdown",
   "metadata": {},
   "source": [
    "$\n",
    "\\quad \\color{blue}{   \\overline{\\color{blue}{a}\\color{blue}{i}}^2} \\,+\\,\n",
    "\\color{blue}{   \\overline{\\color{blue}{a}\\color{red}{b}}^2} \\,-\\,\n",
    "\\color{blue} {2\\,\\overline{\\color{blue}{a}\\color{red}{b}}} \\,\n",
    "\\color{blue}{   \\overline{\\color{blue}{a}\\color{green}{h}}} \\,+\\,\n",
    "\\color{green} {   \\overline{\\color{green}{e}\\color{red}{b}} \\, \\lbrack } \\,\n",
    "\\color{blue}{2\\,\\overline{\\color{blue }{a}\\color{green}{h}}} \\,-\\,\n",
    "\\color{blue}{2\\,\\overline{\\color{blue }{a}\\color{red  }{b}}} \\,+\\,\n",
    "\\color{green}{   \\overline{\\color{green}{f}\\color{red}{b}} \\rbrack }\\,-\\,\n",
    "\\color{green}{\\frac{D^2}{4}} \\,=\\,0\n",
    "$"
   ]
  },
  {
   "cell_type": "markdown",
   "metadata": {},
   "source": [
    "$\n",
    "\\quad \\color{blue}{ \\frac{D^2}{12} \\,+\\, \\frac{1}{12}  \\,-\\,  \\frac{D}{12} \\, (\\cos\\alpha \\,+\\, \\sqrt{3}\\sin\\alpha)  \\,+\\,  }\n",
    "\\color{blue}{ \\sin^2\\beta \\, \\frac{1\\,-\\,2\\,D\\cos\\alpha}{2\\sqrt{3}}}\n",
    "\\color{blue}{ \\left[ \\frac{D(\\cos\\alpha \\,+\\, \\sqrt{3}\\sin\\alpha)}{2\\sqrt{3}} \\,-\\, \\frac{1}{\\sqrt{3}} \\,+\\,\\frac{1\\,-\\,2\\,D\\cos\\alpha}{2\\sqrt{3}}\\right]}\\,-\\,\n",
    "\\color{green}{\\frac{D^2}{4}} \\,=\\,0\n",
    "$"
   ]
  },
  {
   "cell_type": "markdown",
   "metadata": {},
   "source": [
    "$\n",
    "\\color{blue}{ -2D^2 \\,-\\, D\\,(\\cos\\alpha \\,+\\, \\sqrt{3}\\sin\\alpha) \\,+\\, 1 \\,-\\, \\sin^2\\beta \\,(1 \\,-\\, 2\\,D\\,\\cos\\alpha) \\,}\n",
    "\\color{blue}{ \\left[ 1 \\,+\\, D\\,(\\cos\\alpha \\,+\\, \\sqrt{3}\\sin\\alpha)  \\right]  \\,=\\, 0 \\quad(Eq.2)}\n",
    "$"
   ]
  },
  {
   "cell_type": "markdown",
   "metadata": {},
   "source": [
    "$\n",
    "\\text{Equations 3 and 4 are trigonometric operators defining gamma letters:} \\;\\color{red}{\\gamma}\\;\\text{and}\\;\\color{blue}{\\Gamma}.\n",
    "$"
   ]
  },
  {
   "cell_type": "markdown",
   "metadata": {},
   "source": [
    "$\n",
    "\\color{red}{\\gamma \\,\\equiv\\,\\sqrt{3}\\,\\tan\\alpha} \\quad\n",
    "\\color{blue}{\\Gamma \\,\\equiv\\,3\\cos\\alpha-\\sqrt{3}\\,\\sin\\alpha}\n",
    "$"
   ]
  },
  {
   "cell_type": "markdown",
   "metadata": {},
   "source": [
    "$\n",
    "\\color{blue}{\\cos^2\\alpha} \\,+\\, \\color{red}{\\sin^2\\alpha} \\,=\\, 1 \\,=\\,\n",
    "\\color{blue}{\\cos^2\\alpha \\left(1 \\,+\\, \\color{red}{\\frac{\\gamma^2}{3}}\\right)  } \\quad or \\quad\n",
    "\\color{blue}{ \\cos^2\\alpha\\,=\\,\\frac{1}{ 1 \\,+\\, \\color{red}{  \\frac{\\gamma^2}{3}} }}\n",
    "$"
   ]
  },
  {
   "cell_type": "markdown",
   "metadata": {},
   "source": [
    "$\n",
    "\\color{blue}{ \\Gamma\\,\\cos\\alpha \\,=\\,  (\\cos\\alpha -\\color{red}{\\sqrt{3}\\sin\\alpha}) \\cos\\alpha }\\,=\\,\n",
    "\\color{blue}{ (3 \\,-\\, \\color{red}{\\gamma}) \\, \\cos^2\\alpha \\,=\\, \\frac{3\\,-\\,\\color{red}{\\gamma}}{1 \\,+\\, \\color{red}{ \\frac{\\gamma^2}{3}} }}\n",
    "$"
   ]
  },
  {
   "cell_type": "markdown",
   "metadata": {},
   "source": [
    "$\n",
    "\\color{red}{ 3 \\left( 1 \\,+\\, \\frac{\\gamma^2}{3} \\right)}\n",
    "\\color{red}{ \\left[ \\color{blue}{\\Gamma\\,\\cos\\alpha\\,-\\,}\n",
    "\\color{blue}{ \\frac{3\\,-\\,\\color{red}{\\gamma}}{1 \\,+\\, \\color{red}{ \\frac{\\gamma^2}{3}} }} \\right]} \\,=\\,\n",
    "\\color{red}{ \\overbrace{\\Gamma\\,\\cos\\alpha}^{a}\\;\\gamma^2 \\,+\\, \\overbrace{3}^{b}\\;\\gamma + \\overbrace{3( \\Gamma\\,\\cos\\alpha\\,-\\,3)}^{c} }\\,=\\,0\n",
    "$"
   ]
  },
  {
   "cell_type": "markdown",
   "metadata": {},
   "source": [
    "$\n",
    "Positive\\,Root:\\;\\color{red}{ \\gamma \\,=\\, \\frac{-b+\\sqrt{b^2-4\\,a\\,c}}{2\\,a} } =\n",
    "\\color{red}{ \\frac{ -3 + \\sqrt{ 9-12\\,\\Gamma\\cos\\alpha(\\Gamma\\cos\\alpha -3)}}{2\\Gamma\\,\\cos\\alpha} \\quad(Eq.3) }\n",
    "$"
   ]
  },
  {
   "cell_type": "markdown",
   "metadata": {},
   "source": [
    "$\n",
    "\\color{blue}{ \\Gamma^2 \\,=\\, \\Gamma\\,\\cos\\alpha \\,(3 - \\gamma) }\\,=\\,\n",
    "\\color{blue}{ 3\\Gamma\\,\\cos\\alpha - \\frac{1}{2}\\left[ -3 + \\sqrt{ 9-12\\,\\Gamma\\cos\\alpha(\\Gamma\\cos\\alpha -3)} \\right] \\quad (Eq. 4)}\n",
    "$"
   ]
  },
  {
   "cell_type": "markdown",
   "metadata": {},
   "source": [
    "$\n",
    "\\text{Combine Equations 1 and 2 with variable y to solve between D and }\\alpha:\n",
    "$"
   ]
  },
  {
   "cell_type": "markdown",
   "metadata": {},
   "source": [
    "$\n",
    "\\color{Goldenrod}{ Golden\\,Ratio\\,phi:\\;\\varphi\\,\\equiv\\, \\frac{1+\\sqrt{5}}{2} }\n",
    "\\quad\\quad\\color{red}{ Icosa\\,symmetry:\\;\\sin^2\\beta\\,=\\,\\frac{1}{3\\varphi^2}}\n",
    "$"
   ]
  },
  {
   "cell_type": "markdown",
   "metadata": {},
   "source": [
    "$\n",
    "\\color{blue}{Combine:}\\quad\\color{blue}{ 3\\varphi^2(Eq.2)} \\;+\\;  \\color{red}{3\\varphi^2(Eq.1) \\color{green}{y}} \\,=\\,0\n",
    "$"
   ]
  },
  {
   "cell_type": "markdown",
   "metadata": {},
   "source": [
    "$\n",
    "\\color{green}{\\overbrace{\\left[3\\varphi^2(y-2)+2\\left((1-2y)\\cos\\alpha-\\sqrt{3}\\sin\\alpha\\right)\\cos\\alpha\\right]}^{i}\\,D^2 \\,-\\,}\n",
    "\\color{green}{\\overbrace{\\left((4y+1)\\cos\\alpha+\\sqrt{3}\\sin\\alpha\\right)\\varphi^4}^{j}\\,D\\;+}\n",
    "\\color{green}{\\overbrace{(y+1)\\varphi^4}^{k}}\\,=\\,0\n",
    "$"
   ]
  },
  {
   "cell_type": "markdown",
   "metadata": {},
   "source": [
    "$\n",
    "\\color{green}{Define}\\,\\color{red}{mu}\\,and\\,\\color{blue}{lambda:}\\;\n",
    "\\color{green}{j^2-4ik \\,\\equiv\\,(}\n",
    "\\color{red}{\\mu}\\color{green}{\\cos\\alpha\\,+\\,}\n",
    "\\color{blue}{\\lambda}\\color{green}{\\sqrt{3}\\sin\\alpha)^2\\;=\\;}\n",
    "\\color{blue}{\\mu^2}\\color{green}{\\cos^2\\alpha\\,+\\,}\n",
    "\\color{red}{(\\mu\\lambda)} \\color{green}{2\\sqrt{3}\\cos\\alpha\\sin\\alpha +}\n",
    "\\color{blue}{\\lambda^2}\\color{green}{3\\sin^2\\alpha}\n",
    "$"
   ]
  },
  {
   "cell_type": "markdown",
   "metadata": {},
   "source": [
    "$\n",
    "\\color{blue}{ \\underbrace{ \\left[ \\varphi^2(4y+1)^2-4\\varphi^2(y+1)\\left(3\\varphi^2(y-2)+2(1-2y)\\right)\\right]}_{\\mu^2} }\n",
    "\\color{green}{\\cos^2\\alpha \\,+\\,}\n",
    "\\color{red}{ \\underbrace{ \\left[ \\varphi^8(4y+1)+4\\varphi^4(y+1) \\right]}_{(\\mu\\lambda)} }\n",
    "\\color{green}{2\\sqrt{3}\\cos\\alpha\\sin\\alpha \\,+\\,}\n",
    "\\color{blue}{ \\underbrace{ \\left[ \\varphi^8-4\\varphi^6(y+1)(y-2) \\right]}_{\\lambda^2} }\n",
    "\\color{green}{3\\sin^2\\alpha}\n",
    "$"
   ]
  },
  {
   "cell_type": "markdown",
   "metadata": {},
   "source": [
    "$\n",
    "\\color{Goldenrod}{Sum\\,components}\n",
    "\\quad\\color{red}{(\\mu\\lambda)^2}\n",
    "\\color{blue}{-\\mu^2\\lambda^2}\\,=\\,0\n",
    "\\quad\\color{Goldenrod}{using\\;identities\\quad \\varphi^{n+1}-\\varphi^{n-1}=\\varphi^{n}\\quad and \\quad \\varphi^{n+2}+\\varphi^{n-2}=3\\varphi^{n}}\n",
    "$"
   ]
  },
  {
   "cell_type": "markdown",
   "metadata": {},
   "source": [
    "$\n",
    "\\begin{array}{l}\n",
    "\\\\ \\color{Goldenrod}{\\varphi^{16}}\n",
    "&\\color{Goldenrod}{|}&&\\color{Goldenrod}{|}&&\\color{Goldenrod}{|}\\;\n",
    "\\color{red}{16}-\\color{blue}{16}\n",
    "&&\\color{Goldenrod}{|}\\;\n",
    "\\color{red}{8}-\\color{blue}{8}\n",
    "&&\\color{Goldenrod}{|}\\;\n",
    "\\color{red}{1}-\\color{blue}{1}\n",
    "\\\\ \\color{Goldenrod}{\\varphi^{14}}\n",
    "&\\color{Goldenrod}{|}\\;\n",
    "\\color{blue}{64}\n",
    "&&\\color{Goldenrod}{|}\\;\n",
    "\\color{blue}{-32}\\quad\n",
    "&&\\color{Goldenrod}{|}\\;\n",
    "\\color{blue}{-144}\n",
    "&&\\color{Goldenrod}{|}\\;\n",
    "\\color{blue}{-80}\n",
    "&\n",
    "\\color{green}{144}\n",
    "&\\color{Goldenrod}{|}\\;\n",
    "\\color{blue}{-32}\n",
    "&\n",
    "\\color{green}{-144}\n",
    "\\\\ \\color{Goldenrod}{\\varphi^{12}}\n",
    "&\\color{Goldenrod}{|}\\;\n",
    "\\color{blue}{-48}\\quad\n",
    "&\n",
    "\\color{green}{144}\\;\n",
    "&\\color{Goldenrod}{|}\\;\n",
    "\\color{blue}{96}\n",
    "&\n",
    "\\color{green}{0}\\;\n",
    "&\\color{Goldenrod}{|}\\;\n",
    "\\color{red}{32}\n",
    "\\color{blue}{+128}\\quad\n",
    "&\n",
    "\\color{green}{-288}\n",
    "&\\color{Goldenrod}{|}\\;\n",
    "\\color{red}{40}\n",
    "\\color{blue}{-200}\n",
    "&&\\color{Goldenrod}{|}\\;\n",
    "\\color{red}{8}\n",
    "\\color{blue}{-184}\\quad\n",
    "&\n",
    "\\color{green}{\\;144}\n",
    "\\\\ \\color{Goldenrod}{\\varphi^{10}}\n",
    "&\\color{Goldenrod}{|}\\;\n",
    "\\color{blue}{64}\n",
    "&&\\color{Goldenrod}{|}\\;\n",
    "\\color{blue}{-32}\n",
    "&&\\color{Goldenrod}{|}\\;\n",
    "\\color{blue}{-192}\n",
    "&&\\color{Goldenrod}{|}\\;\n",
    "\\color{blue}{-32}\n",
    "&&\\color{Goldenrod}{|}\\;\n",
    "\\color{blue}{64}\n",
    "\\\\ \\color{Goldenrod}{\\varphi^{8}}\n",
    "&\\color{Goldenrod}{|}&&\\color{Goldenrod}{|}&&\\color{Goldenrod}{|}\\;\n",
    "\\color{red}{16}\n",
    "&&\\color{Goldenrod}{|}\\;\n",
    "\\color{red}{32}\n",
    "&&\\color{Goldenrod}{|}\\;\n",
    "\\color{red}{16}\n",
    "\\\\ \\color{Goldenrod}{\\div144\\varphi^{12}}\n",
    "&\\color{Goldenrod}{|}&\n",
    "\\color{green}{y^4}\n",
    "&\\color{Goldenrod}{|}&\n",
    "&\\color{Goldenrod}{|}&\n",
    "\\color{green}{-2y^2\\;}\n",
    "&\\color{Goldenrod}{|}&\n",
    "\\color{green}{-\\varphi^2 y\\;}\n",
    "&\\color{Goldenrod}{|}&\n",
    "\\color{green}{\\;-\\varphi}\n",
    "\\end{array}\n",
    "$"
   ]
  },
  {
   "cell_type": "markdown",
   "metadata": {},
   "source": [
    "$\n",
    "\\begin{array}{lc}\n",
    "\\color{red}{First\\,root\\,of\\,y:\\;-1}\n",
    "&&&\\color{blue}{y^3}\n",
    "&\\color{blue}{\\overbrace{-y^2}^{p=-1}}\n",
    "&\\color{blue}{\\overbrace{-y}^{q=-1}}\n",
    "&\\color{blue}{\\overbrace{-\\varphi}^{r=-\\varphi}}\n",
    "\\\\\n",
    "\\color{blue}{a=\\frac{-p^2}{3}\n",
    "\\color{Goldenrod}{\\large{\\subset}}+q\\;=\\; \\frac{-1}{3}- \n",
    "\\color{Goldenrod}{\\large{\\supset}} 1\\;=\\;\\frac{-4}{3} }\n",
    "&\n",
    "\\color{red}{(y+1)}\n",
    "&\n",
    "\\color{green}{\\overline{|\\;y^4}}\n",
    "&&\\quad\\color{green}{-2y^2}\n",
    "&\\quad\\color{green}{-\\varphi^2y}\n",
    "&\\color{green}{-\\varphi}\n",
    "\\\\\n",
    "\\color{blue}{b=\\frac{2p^2}{27}-\\frac{pq}{3}+r}\n",
    "&&\n",
    "\\color{green}{y^4}\n",
    "&\n",
    "\\color{green}{+y^3}\n",
    "\\\\\n",
    "\\color{blue}{b=-\\frac{2}{27}-\\frac{1}{3}-\\varphi \\;=\\; \\frac{-49-27\\sqrt{5}}{54}}\n",
    "&&\n",
    "\\color{green}{0}\n",
    "&\n",
    "\\color{green}{-y^3}\n",
    "&\n",
    "\\color{green}{-y^2}\n",
    "\\\\\n",
    "\\color{blue}{Second\\,root\\,of\\,y:}\n",
    "&&&\n",
    "\\color{green}{0}\n",
    "&\n",
    "\\color{green}{-y^2}\n",
    "&\n",
    "\\color{green}{-y}\n",
    "\\\\\n",
    "\\color{blue}{\\frac{-p}{3}\n",
    "-\\sqrt[3]{ \\frac{b}{2}+\\sqrt{ \\frac{b^2}{4}+\\frac{a^3}{27}}}\n",
    "-\\sqrt[3]{ \\frac{b}{2}-\\sqrt{ \\frac{b^2}{4}+\\frac{a^3}{27}}}  \\;=\\; \\color{Crimson}{\\eta^2}-\\frac{1}{3}}\n",
    "&&&&\n",
    "\\color{green}{0}\n",
    "&\n",
    "\\color{green}{-\\varphi y}\n",
    "&\n",
    "\\color{green}{-\\varphi}\n",
    "\\\\\n",
    "\\color{Crimson}{ eta:\\,\\eta\\,\\equiv\\,\n",
    "\\sqrt[3]{ \\frac{\n",
    "\\color{Goldenrod}{\\varphi}\n",
    "\\color{Crimson}{}}{2} + \\frac{1}{2} \\sqrt{\n",
    "\\color{Goldenrod}{\\varphi}\n",
    "\\color{Crimson}{-}\\frac{5}{27}}}\\;+\\;}\n",
    "\\color{Crimson}{\n",
    "\\sqrt[3]{ \\frac{\n",
    "\\color{Goldenrod}{\\varphi}\n",
    "\\color{Crimson}{}}{2} - \\frac{1}{2} \\sqrt{\n",
    "\\color{Goldenrod}{\\varphi}\n",
    "\\color{Crimson}{-}\\frac{5}{27}}}}\n",
    "&&&&&\n",
    "\\color{green}{0}\n",
    "&\n",
    "\\color{green}{0}\n",
    "\\end{array}\n",
    "$"
   ]
  },
  {
   "cell_type": "markdown",
   "metadata": {},
   "source": [
    "$\n",
    "\\color{Goldenrod}{\\textbf{First Golden Circle}:\\;If\\;}\n",
    "\\color{blue}{a}\\;\n",
    "\\color{Goldenrod}{is\\,taken\\,as\\;}\n",
    "\\color{blue}{\\frac{2}{3}}\n",
    "\\color{Goldenrod}{,\\;then\\;}\n",
    "\\color{blue}{y\\;}\n",
    "\\color{Goldenrod}{becomes\\,an\\;\\textbf{Origin}\\,to\\,one\\,third\\,powers\\,of\\,the\\,\\textbf{Golden Ratio}.}\n",
    "$"
   ]
  },
  {
   "cell_type": "markdown",
   "metadata": {},
   "source": [
    "$\n",
    "\\color{red}{From\\,the\\,first\\,root\\,of\\,y:} \\frac{ \\color{blue}{(Eq.2)} -\\color{red}{(Eq.1)}}{\\color{green}{D}}\\;=\\;0\n",
    "$"
   ]
  },
  {
   "cell_type": "markdown",
   "metadata": {},
   "source": [
    "$\n",
    "\\color{green}{ \\left[ 2(3\\cos\\alpha-\\sqrt{3}\\sin\\alpha)\\cos\\alpha-9\\varphi^2\\right] D \\;+\\; \\varphi^4(3\\cos\\alpha-\\sqrt{3}\\sin\\alpha)}\\;=\\;\n",
    "\\color{green}{\\left[ 2\\Gamma\\cos\\alpha-9\\varphi^2\\right] D \\;+\\; \\varphi^4\\Gamma}\\;=\\;0\n",
    "$"
   ]
  },
  {
   "cell_type": "markdown",
   "metadata": {},
   "source": [
    "$\n",
    "\\color{green}{D\\;=\\;\\frac{ \\varphi^4\\Gamma}{9\\varphi^2 - 2\\Gamma\\cos\\alpha} \\quad(Eq.5)}\n",
    "$"
   ]
  },
  {
   "cell_type": "markdown",
   "metadata": {},
   "source": [
    "$\n",
    "\\color{red}{\\frac{ \\Gamma(9\\varphi^2 - 2\\Gamma\\cos\\alpha)}{ 3\\varphi^2D} (Eq.1)} \\;=\\;0\n",
    "\\quad\\color{green}{(substitute\\,D\\,with\\,Eq.5)}\n",
    "$"
   ]
  },
  {
   "cell_type": "markdown",
   "metadata": {},
   "source": [
    "$\n",
    "\\color{red}{ \\frac{ \\Gamma(9\\varphi^2 - 2\\Gamma\\cos\\alpha)}{ 3\\varphi^2}}\n",
    "\\color{red}{\\left[ (3\\varphi^2-4\\cos^2\\alpha)  \\color{green}{ \\left( \\frac{ \\varphi^4\\Gamma}{9\\varphi^2-2\\Gamma\\cos\\alpha} \\right)}\n",
    "-4\\varphi^4\\cos\\alpha+\\varphi^4   \\color{green}{ \\left( \\frac{9\\varphi^2-2\\Gamma\\cos\\alpha}{ \\varphi^4\\Gamma} \\right)}\n",
    "\\right]} \\;=\\;0\n",
    "$"
   ]
  },
  {
   "cell_type": "markdown",
   "metadata": {},
   "source": [
    "$\n",
    "\\color{red}{4(\\Gamma\\cos\\alpha)^2 - 36\\varphi^2\\Gamma\\cos\\alpha + 27\\varphi^2 + \\varphi^4\\Gamma^2} \\;=\\;0\n",
    "\\quad\\color{blue}{(substitute\\,\\Gamma^2\\,with\\,Eq.4)}\n",
    "$"
   ]
  },
  {
   "cell_type": "markdown",
   "metadata": {},
   "source": [
    "$\n",
    "\\color{red}{4(\\Gamma\\cos\\alpha)^2 + 3\\varphi^2(\\color{blue}{\\varphi^4}-12)\\Gamma\\cos\\alpha + \\frac{3}{2}\\varphi^2(\\color{blue}{\\varphi^2}+18)}\\;=\\;\n",
    "\\color{blue}{ \\frac{\\varphi^4}{2}\\sqrt{9-12\\Gamma\\cos\\alpha(\\Gamma\\cos\\alpha - 3)}}\n",
    "$"
   ]
  },
  {
   "cell_type": "markdown",
   "metadata": {},
   "source": [
    "$\n",
    "\\color{green}{\\text{Square both sides and subtract}}\n",
    "$"
   ]
  },
  {
   "cell_type": "markdown",
   "metadata": {},
   "source": [
    "$\n",
    "\\color{green}{16(\\Gamma\\cos\\alpha)^4 + 24\\varphi^2(\\varphi^2-12)(\\Gamma\\cos\\alpha)^3 +\n",
    "36\\varphi^2(21\\varphi^2 + 11)(\\Gamma\\cos\\alpha)^2 + 54\\varphi^4(\\varphi^2-36)\\Gamma\\cos\\alpha + 81\\varphi^4(\\varphi^2+9)}\\;=\\;0\n",
    "$"
   ]
  },
  {
   "cell_type": "markdown",
   "metadata": {},
   "source": [
    "$\n",
    "\\color{green}{ Define\\;x:\\quad x\\equiv\\frac{2}{3}\\Gamma\\cos\\alpha \\quad \\text{ and divide by 81:}}\n",
    "$"
   ]
  },
  {
   "cell_type": "markdown",
   "metadata": {},
   "source": [
    "$\n",
    "\\color{green}{x^4 + \\varphi^2(\\varphi^2-12)x^3 + \\varphi^2(21\\varphi^2+11)x^2 + \\varphi^4(\\varphi^2-36)x + \\varphi^4(\\varphi^2+9)}\\;=\\;0\n",
    "$"
   ]
  },
  {
   "cell_type": "markdown",
   "metadata": {},
   "source": [
    "$\n",
    "\\begin{array}{lc}\n",
    "&&\\color{blue}{x^3}\n",
    "&\\color{blue}{\\overbrace{-9\\varphi^2}^{p=-9\\varphi^2}x^2}\n",
    "&\\color{blue}{\\overbrace{+\\varphi^2(21\\varphi^2+2)}^{q=\\varphi^2(21\\varphi^2+2)}x}\n",
    "&\\color{blue}{\\overbrace{-\\varphi^4(\\varphi^2+9)}^{r=-\\varphi^4(\\varphi^2+9)}}\n",
    "\\\\\n",
    "\\color{red}{(x-1)}\n",
    "&\\quad\n",
    "\\color{green}{\\overline{|\\;x^4}}\n",
    "\\quad&\\quad\\color{green}{+\\varphi^2(\\varphi^2-12)x^3}\n",
    "\\quad&\\quad\\color{green}{+\\varphi^2(21\\varphi^2+11)x^2}\n",
    "\\quad&\\color{green}{+\\varphi^4(\\varphi^2-36)x}\n",
    "\\quad&\\color{green}{+\\varphi^4(\\varphi^2+9)}\n",
    "\\\\\n",
    "&\n",
    "\\color{green}{x^4}\n",
    "&\n",
    "\\color{green}{-x^3}\n",
    "\\\\\n",
    "&\n",
    "\\color{green}{0}\n",
    "&\n",
    "\\color{green}{-9\\varphi^2x^3}\n",
    "&\n",
    "\\color{green}{+9\\varphi^2x^2}\n",
    "\\\\\n",
    "&&\n",
    "\\color{green}{0}\n",
    "&\n",
    "\\color{green}{\\varphi^2(21\\varphi^2+2)x^2}\n",
    "&\n",
    "\\color{green}{-\\varphi^2(21\\varphi^2+2)x}\n",
    "\\\\\n",
    "&&&\n",
    "\\color{green}{0}\n",
    "&\n",
    "\\color{green}{-\\varphi^4(\\varphi^2+9)x}\n",
    "&\n",
    "\\color{green}{\\varphi^4(\\varphi^2+9)}\n",
    "\\\\\n",
    "&&&&\n",
    "\\color{green}{0}\n",
    "&\n",
    "\\color{green}{0}\n",
    "\\\\\n",
    "\\end{array}\n",
    "$"
   ]
  },
  {
   "cell_type": "markdown",
   "metadata": {},
   "source": [
    "$\n",
    "\\color{red}{First\\,root\\,of\\,x:\\;1}\n",
    "\\\\\n",
    "\\color{blue}{a=\\frac{-p^2}{3}+q\\;=\\; -27\\varphi^4+\\varphi^2(21\\varphi^2+2) \\;=\\; -2\\varphi^6  }\n",
    "\\\\\n",
    "\\color{blue}{b=\\frac{2p^2}{27}-\\frac{pq}{3}+r}\n",
    "\\\\\n",
    "\\color{blue}{b=-54\\varphi^6 + 3\\varphi^4(21\\varphi^2+2) - \\varphi^4(\\varphi^2+9)\\;=\\;\\large{\\color{Goldenrod}{\\varphi^{10}}}}\n",
    "\\\\\n",
    "\\\\\n",
    "\\color{blue}{Second\\,root\\,of\\,x:}\n",
    "\\\\\n",
    "\\color{blue}{\\frac{-p}{3}\n",
    "-\\sqrt[3]{ \\frac{b}{2}+\\sqrt{ \\frac{b^2}{4}+\\frac{a^3}{27}}}\n",
    "-\\sqrt[3]{ \\frac{b}{2}-\\sqrt{ \\frac{b^2}{4}+\\frac{a^3}{27}}}  \\;=\\; 3\\varphi^2-\\varphi^3\\eta}\n",
    "$"
   ]
  },
  {
   "cell_type": "markdown",
   "metadata": {},
   "source": [
    "$\n",
    "\\color{blue}{\\text{From the second root of x:} \\quad \\Gamma\\cos\\alpha \\;=\\; \\frac{3}{2}(3\\varphi^2-\\varphi^3\\eta)\\quad(Eq.6) }\n",
    "$"
   ]
  },
  {
   "cell_type": "markdown",
   "metadata": {},
   "source": [
    "$\n",
    "\\color{green}{ \\left( \\sqrt[3]{ \\frac{\\varphi}{2} + \\sqrt{ \\frac{\\varphi^2}{4}-\\frac{8}{27}}}\\right)}\n",
    "\\color{green}{ \\left( \\sqrt[3]{ \\frac{\\varphi}{2} - \\sqrt{ \\frac{\\varphi^2}{4}-\\frac{8}{27}}}\\right)}\n",
    "\\color{green}{\\;=\\; \\sqrt[3]{\\frac{8}{27}} \\;=\\; \\frac{2}{3} \\quad so, \\quad \\eta^3 = 2\\eta + \\varphi\\quad(Eq.7)}\n",
    "$"
   ]
  },
  {
   "cell_type": "markdown",
   "metadata": {},
   "source": [
    "$\n",
    "\\color{green}{Noting\\;D\\,=\\, \\sqrt{3}\\sin\\alpha-\\cos\\alpha, \\;we\\,find:}\n",
    "$"
   ]
  },
  {
   "cell_type": "markdown",
   "metadata": {},
   "source": [
    "$\n",
    "\\quad\\color{red}{ (9\\varphi^3+\\varphi+6\\eta-3\\varphi^3\\eta^2)^2}\n",
    "\\color{blue}{ -(\\varphi+3\\eta)^2 \\left(1-3\\varphi^4(3\\sqrt{5}-2\\varphi^3\\eta + \\varphi^2\\eta^2)\\right)} \\;=\\;0\n",
    "\\quad\\color{green}{(expand\\,and\\,substitute\\,\\eta^3\\,with\\,Eq.7)}\n",
    "$"
   ]
  },
  {
   "cell_type": "markdown",
   "metadata": {},
   "source": [
    "$\n",
    "\\color{green}{=\\;}\n",
    "\\color{red}{(9\\varphi^3+\\varphi)^2 + 36\\eta^2 +9\\varphi^6\\eta\\color{green}{(2\\eta+\\varphi)}+2(9\\varphi^3+\\varphi)(6\\eta-3\\varphi^3\\eta^2)}\n",
    "\\color{red}{-36\\varphi^3} \\color{green}{(2\\eta+\\varphi)}\n",
    "\\color{blue}{ -\\varphi^2 \\left(1-3\\varphi^4(3\\sqrt{5} - 2\\varphi^3\\eta + \\varphi^2\\eta^2) \\right)}\n",
    "$"
   ]
  },
  {
   "cell_type": "markdown",
   "metadata": {},
   "source": [
    "$\n",
    "\\quad\\color{blue}{-6\\varphi \\left( \\eta-3\\varphi^4 \\left( 3\\sqrt{5}\\eta - 2\\varphi^3\\eta^2 + \n",
    "\\varphi^2\\color{green}{(2\\eta+\\varphi)} \\right)\\right)}\n",
    "\\color{blue}{-9 \\left( \\eta^2-3\\varphi^4 \\left( 3\\sqrt{5}\\eta^2 - 2\\varphi^3\\color{green}{(2\\eta+\\varphi) +}\n",
    "\\varphi^2\\eta\\color{green}{(2\\eta+\\varphi)} \\right)\\right)}\\;=\\;0\n",
    "$"
   ]
  },
  {
   "cell_type": "markdown",
   "metadata": {},
   "source": [
    "$\n",
    "\\color{green}{=\\;(}\n",
    "\\color{red}{81\\varphi^6+18\\varphi^4+\\varphi^2-36\\varphi^4} \\color{blue}{-\\varphi^2+9\\varphi^6\\sqrt{5}+18\\varphi^8-54\\varphi^8}\n",
    "\\color{green}{)\\quad\\quad\\text{(all 3 orders of}\\;\\eta\\;\\text{sum to zero)}}\n",
    "$"
   ]
  },
  {
   "cell_type": "markdown",
   "metadata": {},
   "source": [
    "$\n",
    "\\quad\\color{green}{+\\;(}\n",
    "\\color{red}{9\\varphi^7+12(9\\varphi^3+\\varphi)-72\\varphi^3}\n",
    "\\color{blue}{+6\\varphi^9-6\\varphi +54\\varphi^5\\sqrt{5}+36\\varphi^7-108\\varphi^8+27\\varphi^7}\n",
    "\\color{green}{)\\eta}\n",
    "$"
   ]
  },
  {
   "cell_type": "markdown",
   "metadata": {},
   "source": [
    "$\n",
    "\\quad\\quad\\color{green}{+\\;(}\n",
    "\\color{red}{36+ 18\\varphi^6-6\\varphi^3(9\\varphi^3+\\varphi)}\n",
    "\\color{blue}{+3\\varphi^8-36\\varphi^8-9 + 81\\varphi^4 \\sqrt{5}+54\\varphi^6}\n",
    "\\color{green}{)\\eta^2}\\;=\\;0\n",
    "$"
   ]
  },
  {
   "cell_type": "markdown",
   "metadata": {},
   "source": [
    "$\n",
    "\\color{blue}{\\sqrt{1-3\\varphi^4(3\\sqrt{5}-2\\varphi^3\\eta+  \\varphi^2\\eta^2)}}\n",
    "\\color{red}{\\;=\\;\\frac{9\\varphi^3+\\varphi+6\\eta-3\\varphi^3\\eta^2}{\\color{blue}{\\varphi +3\\eta}}}\n",
    "\\quad\\color{blue}{(Eq.8)}\n",
    "$"
   ]
  },
  {
   "cell_type": "markdown",
   "metadata": {},
   "source": [
    "$\n",
    "\\color{green}{Substitute\\color{blue}{Eq.6}\\,and\\,\\color{blue}{Eq.8}\\,into\\,\\color{red}{Eq.3}}\n",
    "$"
   ]
  },
  {
   "cell_type": "markdown",
   "metadata": {},
   "source": [
    "$\n",
    "\\color{red}{\\gamma\\;=\\; \\frac{ -3 + \\sqrt{ 9-12\\,\\Gamma\\cos\\alpha(\\Gamma\\cos\\alpha -3)}}{2\\Gamma\\,\\cos\\alpha}}\n",
    "\\color{blue}{ \\;=\\;\\frac{  -1+\\sqrt{  1-3\\varphi^4(3\\sqrt{5}-2\\varphi^3\\eta+\\varphi^2\\eta^2)}}{3\\varphi^2-\\varphi^3\\eta} }\n",
    "\\color{blue}{ \\;=\\;\\frac{  -1+\n",
    "\\color{red}{\\frac{9\\varphi^3+\\varphi+6\\eta-3\\varphi^3\\eta^2}{\\color{blue}{\\varphi +3\\eta}}}}{ 3\\varphi^2-\\varphi^3\\eta}}\n",
    "$"
   ]
  },
  {
   "cell_type": "markdown",
   "metadata": {},
   "source": [
    "$\n",
    "\\color{red}{\\gamma\\;=\\; \\frac{ \\color{blue}{-\\varphi -3\\eta} +9\\varphi^3 +\\varphi +3\\eta +3(3\\varphi^2 - \\varphi^4)\\eta -3\\varphi^3\\eta^2}\n",
    "{\\color{blue}{(\\varphi +3\\eta)(3\\varphi^2 -\\varphi^3\\eta)  }}}\n",
    "\\color{red}{\\;=\\;\\frac{3\\varphi+3\\eta}{\\varphi+3\\eta}}\n",
    "$"
   ]
  },
  {
   "cell_type": "markdown",
   "metadata": {},
   "source": [
    "$\n",
    "\\color{blue}{  \\cos\\alpha \\;=\\; \\frac{1}{  \\sqrt{  1\\color{red}{+\\tan^2\\alpha}}}} \\;=\\;\n",
    "\\color{blue}{ \\frac{1}{ \\sqrt{  1\\color{red}{ +\\frac{\\gamma^2}{3} }}}} \\;=\\;\n",
    "\\color{blue}{ \\frac{1}{ \\sqrt{  1\\color{red}{ +\\frac{1}{3}\\left( \\frac{3\\varphi+3\\eta}{\\varphi+3\\eta} \\right)^2}}}} \\;=\\;\n",
    "\\color{blue}{ \\frac{\\varphi+3\\eta}{2\\sqrt{ \\varphi^2+3\\eta(\\varphi+\\eta)}}}\n",
    "$"
   ]
  },
  {
   "cell_type": "markdown",
   "metadata": {},
   "source": [
    "$\n",
    "\\color{blue}{ \\Gamma\\;=\\;\\cos\\alpha[3\\color{red}{-\\gamma}]}\n",
    "\\color{blue}{ \\;=\\; \\left(  \\frac{\\varphi+3\\eta}{2\\sqrt{ \\varphi^2+3\\eta(\\varphi+\\eta)}} \\right) }\n",
    "\\color{blue}{  \\left[ 3\\color{red}{-\\frac{3\\varphi+3\\eta}{\\varphi+3\\eta}} \\right] }\n",
    "\\color{blue}{ \\;=\\; \\frac{3\\eta}{\\sqrt{ \\varphi^2+3\\eta(\\varphi+\\eta)}} \\quad(Eq.9)}\n",
    "$"
   ]
  },
  {
   "cell_type": "markdown",
   "metadata": {},
   "source": [
    "$\n",
    "\\color{green}{Substitute\\;\\color{blue}{Eq.6}\\;and\\;\\color{blue}{Eq.9}\\;into\\,Eq.5}\n",
    "$"
   ]
  },
  {
   "cell_type": "markdown",
   "metadata": {},
   "source": [
    "$\n",
    "\\color{blue}{D\\;=\\;\\frac{ \\varphi^4\\Gamma}{9\\varphi^2 - 2\\Gamma\\cos\\alpha}}\n",
    "\\color{blue}{\\;=\\;\\frac{\\Gamma\\color{DarkGoldenrod}{\\varphi}}{3\\color{Crimson}{\\eta}}}\n",
    "\\color{blue}{\\;=\\;\\frac{\\Gamma\\color{Teal}{\\xi}}{3}}\n",
    "\\color{blue}{ \\;=\\; \\frac{\\varphi}{\\sqrt{ \\varphi^2+3\\eta(\\varphi+\\eta)}}}\n",
    "$"
   ]
  },
  {
   "cell_type": "markdown",
   "metadata": {},
   "source": [
    "$\n",
    "\\color{red}{Icosa\\,symmetry:}\\;\n",
    "\\color{blue}{\\cos\\beta=\\frac{\\varphi}{\\sqrt{3}}} \\quad\n",
    "\\color{red}{ \\sin\\beta=\\frac{1}{\\varphi\\sqrt{3}}} \\quad\n",
    "\\color{blue}{\\overline{a\\color{green}{b}}=\\frac{1}{2\\sqrt{3}}} \\quad\n",
    "\\color{blue}{\\overline{ac}=\\frac{\\overline{a\\color{green}{b}}}{\\tan\\beta}=  \\frac{\\varphi^2}{2\\sqrt{3}}}\n",
    "$"
   ]
  },
  {
   "cell_type": "markdown",
   "metadata": {},
   "source": [
    "$\n",
    "\\color{green}{ \\text{The triangular faces inradius:}\\;r_{triangle}\\;=\\; \\frac{\\color{blue}{\\overline{ac}}}{\\color{green}{D}}}\n",
    "\\color{green}{ \\;=\\; \\frac{\\varphi}{2\\sqrt{3}}\\sqrt{ \\varphi^2+3\\eta(\\varphi+\\eta)}}\n",
    "$"
   ]
  },
  {
   "cell_type": "markdown",
   "metadata": {},
   "source": [
    "$\n",
    "\\color{green}{ \\text{Circumradius (radius to vertex):}}\n",
    "$"
   ]
  },
  {
   "cell_type": "markdown",
   "metadata": {},
   "source": [
    "$\n",
    "\\color{green}{r_{circumradius}\\;=\\; \\sqrt{ \\color{blue}{r^2_{triangle}}  \\color{red}{+(2\\sin\\frac{\\pi}{3})^{-2}}    }}\n",
    "\\color{green}{ \\;=\\; \\sqrt{ \\frac{ \\color{blue}{\\varphi^2\\left(\\varphi^2 + 3\\eta(\\varphi+\\eta)\\right)} \\color{red}{+ 4}}{12} }}\n",
    "\\color{green}{ \\;=\\; \\frac{1}{2}\\sqrt{  \\frac{ \\varphi^4 + 4  +3\\varphi^2\\eta(\\varphi+\\eta) }{3}}}\n",
    "$"
   ]
  },
  {
   "cell_type": "markdown",
   "metadata": {},
   "source": [
    "$\n",
    "\\color{green}{ \\text{The pentagonal faces inradius:}}\n",
    "$"
   ]
  },
  {
   "cell_type": "markdown",
   "metadata": {},
   "source": [
    "$\n",
    "\\color{green}{r_{pentagon}\\;=\\; \\sqrt{ \\color{blue}{r^2_{circumradius}} \\color{red}{-(2\\sin\\frac{\\pi}{5})^{-2}}    }}\n",
    "\\color{green}{ \\;=\\; \\sqrt{ \\frac{ \\color{blue}{ \\varphi^4 + 4  +3\\varphi^2\\eta(\\varphi+\\eta) } }{12} \\color{red}{-\\frac{\\varphi}{\\sqrt{5}}} }}\n",
    "\\color{green}{ \\;=\\; \\frac{\\varphi}{2}\\sqrt{  \\frac{1}{\\varphi\\sqrt{5}}+\\eta(\\varphi+\\eta)}}\n",
    "$"
   ]
  },
  {
   "cell_type": "markdown",
   "metadata": {},
   "source": [
    "$\n",
    "\\color{green}{ \\text{Midradius (radius to edge bisector):}}\n",
    "$"
   ]
  },
  {
   "cell_type": "markdown",
   "metadata": {},
   "source": [
    "$\n",
    "\\color{green}{r_{midradius}\\;=\\; \\sqrt{ \\color{blue}{r^2_{triangle}} \\color{red}{+ (2\\tan\\frac{\\pi}{3})^{-2}}  }}\n",
    "\\color{green}{ \\;=\\; \\sqrt{ \\frac{ \\color{blue}{\\varphi^2\\left(\\varphi^2 + 3\\eta(\\varphi+\\eta)\\right)} \\color{red}{+1} }{12} }}\n",
    "\\color{green}{ \\;=\\; \\frac{1}{2}\\sqrt{  \\frac{ \\varphi^4 + 1  +3\\varphi^2\\eta(\\varphi+\\eta) }{3}}}\n",
    "$"
   ]
  },
  {
   "cell_type": "markdown",
   "metadata": {},
   "source": [
    "$\n",
    "\\color{red}{Volume_{Snub Dodecahedron}\\;=\\;}\n",
    "\\color{blue}{N_{triangle}\\times Area_{triangle}\\times\\frac{1}{3} \\times r_{triangle} }\n",
    "\\color{green}{+N_{pentagon}\\times Area_{pentagon}\\times\\frac{1}{3} \\times r_{pentagon} }\n",
    "$"
   ]
  },
  {
   "cell_type": "markdown",
   "metadata": {},
   "source": [
    "$\n",
    "\\quad\\color{red}{=\\;}\n",
    "\\color{blue}{ 80\\frac{\\sqrt{3}}{4}\\frac{1}{3}\\frac{\\varphi}{2\\sqrt{3}}\\sqrt{ \\varphi^2+3\\eta(\\varphi+\\eta)}}\n",
    "\\color{green}{\\,+\\,12\\frac{5}{4}\\sqrt{\\frac{\\varphi^3}{\\sqrt{5}}}\\frac{1}{3} \\frac{\\varphi}{2}\\sqrt{  \\frac{1}{\\varphi\\sqrt{5}}+\\eta(\\varphi+\\eta)}     }\n",
    "$"
   ]
  },
  {
   "cell_type": "markdown",
   "metadata": {},
   "source": [
    "$$\n",
    "\\color{red}{Volume_{Snub Dodecahedron}\\;=\\;}\n",
    "\\frac{10\\color{DarkGoldenrod}{\\varphi}}{3}\\sqrt{ \\color{DarkGoldenrod}{\\varphi^2}\n",
    "\\color{Black}{+3}\\color{Crimson}{\\eta}\n",
    "\\color{Black}{(}\\color{DarkGoldenrod}{\\varphi}\n",
    "\\color{Black}{+}\\color{Crimson}{\\eta}\n",
    "\\color{Black}{)}}\n",
    "\\,+\\,\\frac{\\color{DarkGoldenrod}{\\varphi^2}}{2}\\sqrt{ 5 + 5\\sqrt{5}\\color{DarkGoldenrod}{\\varphi}\\color{Crimson}{\\eta}\n",
    "\\color{Black}{(}\\color{DarkGoldenrod}{\\varphi}\n",
    "\\color{Black}{+}\\color{Crimson}{\\eta}\n",
    "\\color{Black}{)}}\n",
    "\\\\\n",
    "$$"
   ]
  },
  {
   "cell_type": "code",
   "execution_count": 50,
   "metadata": {},
   "outputs": [
    {
     "name": "stdout",
     "output_type": "stream",
     "text": [
      "coxeter_expression = 37.6166499627333629757777\n",
      "kosters_expression = 37.6166499627333629757777\n",
      "adams_expression   = 37.6166499627333629757777\n"
     ]
    }
   ],
   "source": [
    "import mpmath as mp\n",
    "mp.mp.dps = 27\n",
    "phi = (mp.sqrt(5) + 1)/2\n",
    "eta = (phi/2 + (mp.mpf(1)/2)*mp.sqrt(phi - mp.mpf(5)/27))**((mp.mpf(1)/3)) + (\n",
    "                 (phi/2 - (mp.mpf(1)/2)*mp.sqrt(phi - mp.mpf(5)/27))**((mp.mpf(1)/3)))\n",
    "xi = phi/eta\n",
    "coxeter_expression = 4*((12*eta**2)*(3*phi + 1) - eta*(36*phi + 7) - (53*phi + 6))/(\n",
    "                     3*((2*mp.sqrt(3 - eta**2))**3))\n",
    "kosters_expression = ((3*phi + 1)*xi**2 + (3*phi + 1)*xi - phi/6 - 2) / mp.sqrt(3*xi**2 - phi**2)\n",
    "adams_expression   = (10*phi/3)*mp.sqrt(phi ** 2 + 3*eta*(phi + eta)) + (\n",
    "                     (phi**2 /2)*mp.sqrt(5 + 5*mp.sqrt(5)*phi*eta*(phi + eta)))\n",
    "digits = 24\n",
    "print(\"coxeter_expression = %s\"%(mp.nstr(coxeter_expression,digits)))\n",
    "print(\"kosters_expression = %s\"%(mp.nstr(kosters_expression,digits)))\n",
    "print(\"adams_expression   = %s\"%(mp.nstr(adams_expression,digits)))"
   ]
  },
  {
   "cell_type": "markdown",
   "metadata": {},
   "source": [
    "## Origin to one third powers of the Golden Ratio\n",
    "<span style=\"color:black\">Spinnability of the </span>\n",
    "<span style=\"color:Goldenrod\"><b>First Golden Circle</b></span>\n",
    "<span style=\"color:black\"> leads to a new second root, if\n",
    "<span style=\"color:blue\"><font size=\"3\"> a </font></span>\n",
    "<span style=\"color:black\">is taken as $\\color{blue}{\\frac{2}{3}}$</span>\n",
    "<span style=\"color:black\">, the alternate root:</span>\n",
    "$\n",
    "\\color{green}{y\\;=\\;\\frac{-p}{3}\n",
    "-\\sqrt[3]{ \\frac{b}{2}+\\sqrt{ \\frac{b^2}{4}+\\frac{a^3}{27}}}\n",
    "-\\sqrt[3]{ \\frac{b}{2}-\\sqrt{ \\frac{b^2}{4}+\\frac{a^3}{27}}}  \\;=\\;}\n",
    "\\color{green}{\\frac{1}{3}}\n",
    "\\color{green}{+\\frac{2}{3}}\\color{Goldenrod}{\\varphi^{\\frac{4}{3}}}\n",
    "\\color{green}{-\\frac{1}{3}}\\color{Goldenrod}{\\varphi^{\\frac{-4}{3}}}\n",
    "$"
   ]
  },
  {
   "cell_type": "markdown",
   "metadata": {},
   "source": [
    "<span style=\"color:Goldenrod\"><b>Golden Ratio</b></span> powers may be expressed as the sum of two Fibonacci Sequences (r,s):  $\\color{Goldenrod}{\\varphi^n} = \\frac{r+s\\sqrt{5}}{2}$"
   ]
  },
  {
   "cell_type": "markdown",
   "metadata": {},
   "source": [
    "$\n",
    "\\begin{array}{rrrr}\n",
    "\\color{Goldenrod}{\\varphi^{ n}} & r  & s  & r^2-5s^2\\\\\n",
    "\\hline\n",
    "\\color{Goldenrod}{\\varphi^{ -7}} &  -29 &   13 &  -4\\\\\n",
    "\\color{Goldenrod}{\\varphi^{ -6}} &   18 &   -8 &   4\\\\\n",
    "\\color{Goldenrod}{\\varphi^{ -5}} &  -11 &    5 &  -4\\\\\n",
    "\\color{Goldenrod}{\\varphi^{ -4}} &    7 &   -3 &   4\\\\\n",
    "\\color{Goldenrod}{\\varphi^{ -3}} &   -4 &    2 &  -4\\\\\n",
    "\\color{Goldenrod}{\\varphi^{ -2}} &    3 &   -1 &   4\\\\\n",
    "\\color{Goldenrod}{\\varphi^{ -1}} &   -1 &    1 &  -4\\\\\n",
    "\\color{Goldenrod}{\\varphi^{  0}} &    2 &    0 &   4\\\\\n",
    "\\color{Goldenrod}{\\varphi^{  1}} &    1 &    1 &  -4\\\\\n",
    "\\color{Goldenrod}{\\varphi^{  2}} &    3 &    1 &   4\\\\\n",
    "\\color{Goldenrod}{\\varphi^{  3}} &    4 &    2 &  -4\\\\\n",
    "\\color{Goldenrod}{\\varphi^{  4}} &    7 &    3 &   4\\\\\n",
    "\\color{Goldenrod}{\\varphi^{  5}} &   11 &    5 &  -4\\\\\n",
    "\\color{Goldenrod}{\\varphi^{  6}} &   18 &    8 &   4\\\\\n",
    "\\color{Goldenrod}{\\varphi^{  7}} &   29 &   13 &  -4\\\\\n",
    "\\end{array}\n",
    "$"
   ]
  },
  {
   "cell_type": "markdown",
   "metadata": {},
   "source": [
    "The oscillation of $r^2-5s^2$ may be extended to <span style=\"color:Goldenrod\"><b>One third powers of the Golden Ratio</b>.</span>\n"
   ]
  },
  {
   "cell_type": "markdown",
   "metadata": {},
   "source": [
    "$\n",
    "\\begin{array}{rrrr}\n",
    "\\color{Goldenrod}{\\varphi^{ \\frac{n}{3}}} & r  & s  & r^2-5s^2\\\\\n",
    "\\hline\n",
    "\\color{Goldenrod}{\\varphi^{ -2}} &    3 &   -1 &   4\\\\\n",
    "\\color{Goldenrod}{\\varphi^{ \\frac{-5}{3}}}   &\n",
    "\\color{Goldenrod}{\\varphi^{ \\frac{-5}{3}} - \\varphi^{ \\frac{5}{3}}} &\n",
    "\\color{Goldenrod}{(\\varphi^{ \\frac{-5}{3}} + \\varphi^{ \\frac{5}{3}})\\frac{1}{\\sqrt{5}}} &\n",
    "-4\\\\\n",
    "\\color{Goldenrod}{\\varphi^{ \\frac{-4}{3}}}   &\n",
    "\\color{Goldenrod}{\\varphi^{ \\frac{-4}{3}} + \\varphi^{ \\frac{4}{3}}} &\n",
    "\\color{Goldenrod}{(\\varphi^{ \\frac{-4}{3}} - \\varphi^{ \\frac{4}{3}})\\frac{1}{\\sqrt{5}}} &\n",
    "4\\\\\n",
    "\\color{Goldenrod}{\\varphi^{ -1}} &   -1 &    1 &  -4\\\\\n",
    "\\color{Goldenrod}{\\varphi^{ \\frac{-2}{3}}}   &\n",
    "\\color{Goldenrod}{\\varphi^{ \\frac{-2}{3}} + \\varphi^{ \\frac{2}{3}}} &\n",
    "\\color{Goldenrod}{(\\varphi^{ \\frac{-2}{3}} - \\varphi^{ \\frac{2}{3}})\\frac{1}{\\sqrt{5}}} &\n",
    "4\\\\\n",
    "\\color{Goldenrod}{\\varphi^{ \\frac{-1}{3}}}   &\n",
    "\\color{Goldenrod}{\\varphi^{ \\frac{-1}{3}} - \\varphi^{ \\frac{1}{3}}} &\n",
    "\\color{Goldenrod}{(\\varphi^{ \\frac{-1}{3}} + \\varphi^{ \\frac{1}{3}})\\frac{1}{\\sqrt{5}}} &\n",
    "-4\\\\\n",
    "\\color{Goldenrod}{\\varphi^{  0}} &    2 &    0 &   4\\\\\n",
    "\\color{Goldenrod}{\\varphi^{ \\frac{1}{3}}}   &\n",
    "\\color{Goldenrod}{\\varphi^{ \\frac{1}{3}} - \\varphi^{ \\frac{-1}{3}}} &\n",
    "\\color{Goldenrod}{(\\varphi^{ \\frac{1}{3}} + \\varphi^{ \\frac{-1}{3}})\\frac{1}{\\sqrt{5}}} &\n",
    "-4\\\\\n",
    "\\color{Goldenrod}{\\varphi^{ \\frac{2}{3}}}   &\n",
    "\\color{Goldenrod}{\\varphi^{ \\frac{2}{3}} + \\varphi^{ \\frac{-2}{3}}} &\n",
    "\\color{Goldenrod}{(\\varphi^{ \\frac{2}{3}} - \\varphi^{ \\frac{-2}{3}})\\frac{1}{\\sqrt{5}}} &\n",
    "4\\\\\n",
    "\\color{Goldenrod}{\\varphi^{  1}} &    1 &    1 &  -4\\\\\n",
    "\\color{Goldenrod}{\\varphi^{ \\frac{4}{3}}}   &\n",
    "\\color{Goldenrod}{\\varphi^{ \\frac{4}{3}} + \\varphi^{ \\frac{-4}{3}}} &\n",
    "\\color{Goldenrod}{(\\varphi^{ \\frac{4}{3}} - \\varphi^{ \\frac{-4}{3}})\\frac{1}{\\sqrt{5}}} &\n",
    "4\\\\\n",
    "\\color{Goldenrod}{\\varphi^{ \\frac{5}{3}}}   &\n",
    "\\color{Goldenrod}{\\varphi^{ \\frac{5}{3}} - \\varphi^{ \\frac{-5}{3}}} &\n",
    "\\color{Goldenrod}{(\\varphi^{ \\frac{5}{3}} + \\varphi^{ \\frac{-5}{3}})\\frac{1}{\\sqrt{5}}} &\n",
    "-4\\\\\n",
    "\\color{Goldenrod}{\\varphi^{  2}} &    3 &    1 &   4\\\\\n",
    "\\end{array}\n",
    "$"
   ]
  },
  {
   "cell_type": "markdown",
   "metadata": {},
   "source": [
    "<span style=\"color:green\">Vectors are used to plot the alternate root as the </span><span style=\"color:Goldenrod\"><b>Origin</b> to <b>One third powers of the Golden Ratio</b>.</span>"
   ]
  },
  {
   "cell_type": "markdown",
   "metadata": {},
   "source": [
    "![One_third_powers_of_the_Golden_Ratio](https://archimedeansolids.github.io/w3images/Golden_Ratio.png)"
   ]
  },
  {
   "cell_type": "markdown",
   "metadata": {},
   "source": [
    "## References\n",
    "\n",
    "\n",
    "[1] [Coxeter, Harold S. M.](https://mathworld.wolfram.com/news/2003-04-02/coxeter/) Longuet-Higgins, M. S.; and Miller, J. C. P. [Uniform Polyhedra](https://royalsocietypublishing.org/doi/abs/10.1098/rsta.1954.0003) Phil. Trans. Roy. Soc. London, 1954.\n",
    "\n",
    "[2] [Weisstein, Eric W.](https://mathworld.wolfram.com/about/author.html) MathWorld--A Wolfram Web Resource [Snub Dodecahedron](https://mathworld.wolfram.com/SnubDodecahedron.html).\n",
    "\n",
    "[3] [Rajpoot, Harish C.](https://notionpress.com/author/HarishChandraRajpoot) [“Optimum Solution of Snub Dodecahedron\"](https://www.researchgate.net/publication/335967411_Optimum_Solution_of_Snub_Dodecahedron_an_Archimedean_Solid_by_Using_HCR's_Theory_of_Polygon_Newton-Raphson_Method) 2014.\n",
    "\n",
    "[4] [Snub Dodecahedron Volume Calculated Six Ways](https://nbviewer.org/url/archimedeansolids.github.io/Snub_Dodecahedron_Six_Ways.ipynb), [Golden_Powers_Plot](https://nbviewer.org/url/archimedeansolids.github.io/Golden_Powers_Plot.ipynb) supplements to this essay.\n",
    "\n",
    "[5] Wikipedia [Snub Dodecahedron](https://en.wikipedia.org/wiki/Snub_dodecahedron).\n",
    "\n",
    "[6] Sage Math [Library of polytopes_Snub_Dodecahedron](https://doc.sagemath.org/html/en/reference/discrete_geometry/sage/geometry/polyhedron/library.html#sage.geometry.polyhedron.library.Polytopes.snub_dodecahedron).\n",
    "\n",
    "[7] [Adams, Mark S.](https://archimedeansolids.github.io/) [Archimedean and Platonic Solids](https://archimedeansolids.github.io/pdf/ArchimedeanPlatonicSolids.pdf) 1985.\n",
    "\n",
    "\n",
    "Cite this essay as:\n",
    "Adams, Mark S.; Kosters, Menno T. [Volume_Solutions_To_Snub_Dodecahedron](https://nbviewer.org/url/archimedeansolids.github.io/Snub_Dodecahedron_Volumes.ipynb) 2021.\n",
    "\n",
    "\n"
   ]
  }
 ],
 "metadata": {
  "kernelspec": {
   "display_name": "SageMath 9.2",
   "language": "sage",
   "name": "sagemath"
  },
  "language_info": {
   "codemirror_mode": {
    "name": "ipython",
    "version": 3
   },
   "file_extension": ".py",
   "mimetype": "text/x-python",
   "name": "python",
   "nbconvert_exporter": "python",
   "pygments_lexer": "ipython3",
   "version": "3.7.7"
  }
 },
 "nbformat": 4,
 "nbformat_minor": 2
}
